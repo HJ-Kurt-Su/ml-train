{
  "nbformat": 4,
  "nbformat_minor": 0,
  "metadata": {
    "colab": {
      "name": "poem.ipynb",
      "provenance": [],
      "collapsed_sections": [],
      "authorship_tag": "ABX9TyNxOz4DO+kJI5mjBCW6dEIh",
      "include_colab_link": true
    },
    "kernelspec": {
      "name": "python3",
      "display_name": "Python 3"
    }
  },
  "cells": [
    {
      "cell_type": "markdown",
      "metadata": {
        "id": "view-in-github",
        "colab_type": "text"
      },
      "source": [
        "<a href=\"https://colab.research.google.com/github/HJ-Kurt-Su/ml-train/blob/main/poem.ipynb\" target=\"_parent\"><img src=\"https://colab.research.google.com/assets/colab-badge.svg\" alt=\"Open In Colab\"/></a>"
      ]
    },
    {
      "cell_type": "code",
      "metadata": {
        "id": "LYGqGXfy3e4j",
        "outputId": "d1f3460b-4797-4abe-bbcc-35b291c8c2d5",
        "colab": {
          "base_uri": "https://localhost:8080/",
          "height": 35
        }
      },
      "source": [
        "from urllib.request import urlretrieve\n",
        "url = \"https://github.com/Elwing-Chou/acerml/raw/main/poem_train.txt\"\n",
        "urlretrieve(url, \"train.csv\")\n",
        "url = \"https://github.com/Elwing-Chou/acerml/raw/main/poem_test.txt\"\n",
        "urlretrieve(url, \"test.csv\")"
      ],
      "execution_count": 38,
      "outputs": [
        {
          "output_type": "execute_result",
          "data": {
            "text/plain": [
              "('test.csv', <http.client.HTTPMessage at 0x7fb9d3327fd0>)"
            ]
          },
          "metadata": {
            "tags": []
          },
          "execution_count": 38
        }
      ]
    },
    {
      "cell_type": "code",
      "metadata": {
        "id": "79u2DdiMIEo9"
      },
      "source": [
        "import pandas as pd\n",
        "train_df = pd.read_csv(\"train.csv\", encoding=\"utf-8\")\n",
        "test_df = pd.read_csv(\"test.csv\", encoding=\"utf-8\")"
      ],
      "execution_count": 39,
      "outputs": []
    },
    {
      "cell_type": "code",
      "metadata": {
        "id": "Zxyjc-GXIZH-",
        "outputId": "04379bff-afb1-466b-ef02-7ef5329c8ed8",
        "colab": {
          "base_uri": "https://localhost:8080/",
          "height": 399
        }
      },
      "source": [
        "train_df"
      ],
      "execution_count": 7,
      "outputs": [
        {
          "output_type": "execute_result",
          "data": {
            "text/html": [
              "<div>\n",
              "<style scoped>\n",
              "    .dataframe tbody tr th:only-of-type {\n",
              "        vertical-align: middle;\n",
              "    }\n",
              "\n",
              "    .dataframe tbody tr th {\n",
              "        vertical-align: top;\n",
              "    }\n",
              "\n",
              "    .dataframe thead th {\n",
              "        text-align: right;\n",
              "    }\n",
              "</style>\n",
              "<table border=\"1\" class=\"dataframe\">\n",
              "  <thead>\n",
              "    <tr style=\"text-align: right;\">\n",
              "      <th></th>\n",
              "      <th>作者</th>\n",
              "      <th>詩名</th>\n",
              "      <th>內容</th>\n",
              "    </tr>\n",
              "  </thead>\n",
              "  <tbody>\n",
              "    <tr>\n",
              "      <th>0</th>\n",
              "      <td>李白</td>\n",
              "      <td>菩薩蠻·平林漠漠煙如織</td>\n",
              "      <td>平林漠漠煙如織，寒山一帶傷心碧。\\r\\n暝色入高樓，有人樓上愁。玉階空佇立，宿鳥歸飛急。\\r...</td>\n",
              "    </tr>\n",
              "    <tr>\n",
              "      <th>1</th>\n",
              "      <td>李白</td>\n",
              "      <td>把酒問月</td>\n",
              "      <td>青天有月來幾時，我今停杯一問之：人攀明月不可得，月行卻與人相隨？皎如飛鏡臨丹闕，綠煙滅儘清輝...</td>\n",
              "    </tr>\n",
              "    <tr>\n",
              "      <th>2</th>\n",
              "      <td>李白</td>\n",
              "      <td>春思</td>\n",
              "      <td>燕草如碧絲，秦桑低綠枝。當君懷歸日，是妾斷腸時。春風不相識，何事入羅幃。</td>\n",
              "    </tr>\n",
              "    <tr>\n",
              "      <th>3</th>\n",
              "      <td>李白</td>\n",
              "      <td>春夜洛城聞笛</td>\n",
              "      <td>誰家玉笛暗飛聲，散入春風滿洛城。此夜曲中聞折柳，何人不起故園情。</td>\n",
              "    </tr>\n",
              "    <tr>\n",
              "      <th>4</th>\n",
              "      <td>李白</td>\n",
              "      <td>古風 其十九</td>\n",
              "      <td>西上蓮花山，迢迢見明星。(西上 一作：西嶽)素手把芙蓉，虛步躡太清。霓裳曳廣帶，飄拂升天行。...</td>\n",
              "    </tr>\n",
              "    <tr>\n",
              "      <th>...</th>\n",
              "      <td>...</td>\n",
              "      <td>...</td>\n",
              "      <td>...</td>\n",
              "    </tr>\n",
              "    <tr>\n",
              "      <th>2726</th>\n",
              "      <td>白居易</td>\n",
              "      <td>彆元九後詠所懷</td>\n",
              "      <td>零落桐葉雨，蕭條槿花風。悠悠早秋意，生此幽閒中。況與故人彆，中懷正無悰。勿雲不相送，心到青門...</td>\n",
              "    </tr>\n",
              "    <tr>\n",
              "      <th>2727</th>\n",
              "      <td>白居易</td>\n",
              "      <td>早秋曲江感懷</td>\n",
              "      <td>離離暑雲散，嫋嫋涼風起。池上秋又來，荷花半成子。朱顏易銷歇，白日無窮已。人壽不如山，年光急於...</td>\n",
              "    </tr>\n",
              "    <tr>\n",
              "      <th>2728</th>\n",
              "      <td>白居易</td>\n",
              "      <td>東墟晚歇　時退居渭村。</td>\n",
              "      <td>涼風冷露蕭索天，黃蒿紫菊荒涼田。繞塚秋花少顏色，細蟲小蝶飛翻翻。中有騰騰獨行者，手拄漁竿不騎...</td>\n",
              "    </tr>\n",
              "    <tr>\n",
              "      <th>2729</th>\n",
              "      <td>白居易</td>\n",
              "      <td>南秦雪</td>\n",
              "      <td>往歲曾為西邑吏，慣從駱口到南秦。\\r\\n三時雲冷多飛雪，二月山寒少有春。\\r\\n我思舊事猶惆...</td>\n",
              "    </tr>\n",
              "    <tr>\n",
              "      <th>2730</th>\n",
              "      <td>白居易</td>\n",
              "      <td>寄蘄州簟與元九因題六韻　時元九鰥居。</td>\n",
              "      <td>笛竹出蘄春，霜刀劈翠筠。織成雙鎖簟，寄與獨眠人。卷作筒中信，舒為席上珍。滑如鋪薤葉，冷似臥龍...</td>\n",
              "    </tr>\n",
              "  </tbody>\n",
              "</table>\n",
              "<p>2731 rows × 3 columns</p>\n",
              "</div>"
            ],
            "text/plain": [
              "       作者  ...                                                 內容\n",
              "0      李白  ...  平林漠漠煙如織，寒山一帶傷心碧。\\r\\n暝色入高樓，有人樓上愁。玉階空佇立，宿鳥歸飛急。\\r...\n",
              "1      李白  ...  青天有月來幾時，我今停杯一問之：人攀明月不可得，月行卻與人相隨？皎如飛鏡臨丹闕，綠煙滅儘清輝...\n",
              "2      李白  ...               燕草如碧絲，秦桑低綠枝。當君懷歸日，是妾斷腸時。春風不相識，何事入羅幃。\n",
              "3      李白  ...                   誰家玉笛暗飛聲，散入春風滿洛城。此夜曲中聞折柳，何人不起故園情。\n",
              "4      李白  ...  西上蓮花山，迢迢見明星。(西上 一作：西嶽)素手把芙蓉，虛步躡太清。霓裳曳廣帶，飄拂升天行。...\n",
              "...   ...  ...                                                ...\n",
              "2726  白居易  ...  零落桐葉雨，蕭條槿花風。悠悠早秋意，生此幽閒中。況與故人彆，中懷正無悰。勿雲不相送，心到青門...\n",
              "2727  白居易  ...  離離暑雲散，嫋嫋涼風起。池上秋又來，荷花半成子。朱顏易銷歇，白日無窮已。人壽不如山，年光急於...\n",
              "2728  白居易  ...  涼風冷露蕭索天，黃蒿紫菊荒涼田。繞塚秋花少顏色，細蟲小蝶飛翻翻。中有騰騰獨行者，手拄漁竿不騎...\n",
              "2729  白居易  ...  往歲曾為西邑吏，慣從駱口到南秦。\\r\\n三時雲冷多飛雪，二月山寒少有春。\\r\\n我思舊事猶惆...\n",
              "2730  白居易  ...  笛竹出蘄春，霜刀劈翠筠。織成雙鎖簟，寄與獨眠人。卷作筒中信，舒為席上珍。滑如鋪薤葉，冷似臥龍...\n",
              "\n",
              "[2731 rows x 3 columns]"
            ]
          },
          "metadata": {
            "tags": []
          },
          "execution_count": 7
        }
      ]
    },
    {
      "cell_type": "code",
      "metadata": {
        "id": "V1zVkRXAJja_"
      },
      "source": [
        "# 進 sklearn 之前， input, output 全部改成數字\n",
        "# unique/value_counts\n",
        "# Series.replace({\"李白\": 0})\n",
        "# type(train_df[\"作者\"])\n",
        "# type(train_df)\n",
        "\n",
        "u = train_df[\"作者\"].unique()\n",
        "# writer_index = {}\n",
        "# for i, name in enumerate(u):\n",
        "#   writer_index[name] = i\n",
        "\n",
        "writer_index = {name:i for i, name in enumerate(u)}\n",
        "# 反向將數字換成作者名稱\n",
        "index_writer = {v:k for k, v in writer_index.items()}\n",
        "writer_index\n",
        "index_writer\n",
        "\n",
        "y_train = train_df[\"作者\"].replace(writer_index)\n",
        "y_test = test_df[\"作者\"].replace(writer_index)\n",
        "y_test"
      ],
      "execution_count": null,
      "outputs": []
    },
    {
      "cell_type": "code",
      "metadata": {
        "id": "iRssD4KrNfdX",
        "outputId": "c0f4cd52-7351-4c36-d48a-ca996299383b",
        "colab": {
          "base_uri": "https://localhost:8080/",
          "height": 568
        }
      },
      "source": [
        "import jieba\n",
        "# example: 回頭檢查換行還有標點符號有無去掉\n",
        "p = train_df[\"內容\"][0]\n",
        "\" \".join(jieba.cut(p))\n",
        "# apply: Series.apply(func 名稱) 不要加小括號\n",
        "def poemcut(p):\n",
        "  return \" \".join(jieba.cut(p))\n",
        "\n",
        "x_train = train_df[\"內容\"].apply(poemcut)  # 不加小括號\n",
        "x_test = test_df[\"內容\"].apply(poemcut)\n",
        "x_test"
      ],
      "execution_count": 40,
      "outputs": [
        {
          "output_type": "execute_result",
          "data": {
            "text/plain": [
              "0      日照 香爐生 紫煙 ， 遙看 瀑布 掛 前川 。 飛流 直下 三千尺 ， 疑是 銀河 落九天 。\n",
              "1     朝辭 白帝 彩雲間 ， 千裡 江陵 一日 還 。 兩岸 猿聲 啼 不住 ， 輕舟 已過 萬 ...\n",
              "2      李白 乘舟 將欲行 ， 忽聞 岸上 踏歌 聲 。 桃花潭水 深 千尺 ， 不及 汪倫送 我情 。\n",
              "3       故人 西辭黃鶴樓 ， 煙花 三月 下揚州 。 孤帆 遠影 碧空 儘 ， 唯見長 江天 際流 。\n",
              "4                 危樓 高 百尺 ， 手可摘 星辰 。 不敢 高聲語 ， 恐驚 天上 人 。\n",
              "5                  床前 明月光 ， 疑是 地上 霜 。 舉頭 望明月 ， 低頭思 故鄉 。\n",
              "6     天門 中斷 楚江 開 ， 碧水 東流 至此 回 。 兩岸 青山 相對 出 ， 孤帆 一片 日...\n",
              "7               眾鳥 高 飛 儘 ， 孤雲獨 去 閒 。 相看 兩不厭 ， 隻 有 敬亭山 。\n",
              "8     鳳凰 台上 鳳凰遊 ， 鳳去 台空江 自流 。 吳宮 花草 埋 幽徑 ， 晉代 衣冠 成古丘...\n",
              "9     渡遠 荊門外 ， 來 從 楚國遊 。 山 隨 平野 儘 ， 江入 大荒 流 。 月 下 飛天...\n",
              "10    百川 日東流 ， 客去 亦 不息 。 我 生苦 漂 蕩 ， 何時 有 終極 。 讚 公 釋 ...\n",
              "11    細泉 兼 輕冰 ， 沮洳 棧道 濕 。 不辭 辛苦 行 ， 迫此 短景急 。 石門 雪雲隘 ...\n",
              "12    首路 栗亭 西 ， 尚想 鳳凰村 。 季冬 攜 童稚 ， 辛苦 赴 蜀門 。 南登 木皮 嶺...\n",
              "13    落日 在 簾 鉤 ， 溪邊 春事幽 。 芳菲 緣岸 圃 ， 樵 爨 倚灘 舟 。 啅 雀 爭...\n",
              "14    竇侍 禦 ， 驥 之子 ， 鳳之雛 。 年 未 三十 忠義俱 ， 骨鯁 絕代 無 。 炯 如...\n",
              "15    百草 競春華 ， 麗春應 最勝 。 少須 好 顏色 ， 多漫枝條 剩 。 紛紛 桃李 枝 ，...\n",
              "16    何年 顧虎頭 ， 滿壁畫 瀛州 。 赤 日 石林 氣 ， 青天 江海 流 。 錫飛常 近鶴 ...\n",
              "17    野寺 隱喬木 ， 山僧 高下 居 。 石門 日色異 ， 絳 氣橫 扶疏 。 窈窕 入風 磴 ...\n",
              "18    西川 有 杜鵑 ， 東川 無 杜鵑 。 涪萬 無 杜鵑 ， 雲安有 杜鵑 。 我 昔遊錦城 ...\n",
              "19    小奴 縛雞 向 市 賣 ， 雞 被縛 急 相 喧爭 。 家中 厭雞 食蟲 蟻 ， 不知 雞賣...\n",
              "20    管妙 弦 清歌 入 雲 ， 老人 合眼 醉醺醺 。 誠知 不及 當年 聽 ， 猶覺 聞時 勝...\n",
              "21    追歡 逐樂少 閒時 ， 補帖 平生 得事遲 。 何處 花開 曾後看 ？ 誰家 酒熟 不 先知...\n",
              "22    歲 陰生計 兩 蹉跎 ， 相顧 悠悠 醉且 歌 。 廚冷 難留 烏止 屋 ， 門閒 可 與 ...\n",
              "23    雨 砌 長 寒蕪 ， 風庭 落秋果 。 窗間 有 閒叟 ， 儘 日 看 書 坐 。 書中見 ...\n",
              "24    睡足 肢體 暢 ， 晨起 開 中堂 。 初旭泛 簾幕 ， 微風 拂 衣裳 。 二婢 扶 盥櫛...\n",
              "25    履道 西門 有 弊居 ， 池塘 竹樹繞 君廬 。 豪華肥壯 雖無分 ， 飽暖安閒 即 有 餘...\n",
              "26    昨日 複 今辰 ， 悠悠 七十 春 。 所經 多 故處 ， 卻 想 似 前身 。 散 秩優遊...\n",
              "27    不 與 老為期 ， 因何 兩鬢絲 ？ 才 應免 夭促 ， 便 已 及 衰 羸 。 昨夜 夢 ...\n",
              "28    暖床 斜 臥日 曛 腰 ， 一覺 閒眠 百病 銷 。 儘 日 一 飧 茶 兩 碗 ， 更無所...\n",
              "29    選石 鋪 新路 ， 安橋 壓古堤 。 似 從 銀漢下 ， 落傍玉 川西 。 影定 欄杆 倒 ...\n",
              "Name: 內容, dtype: object"
            ]
          },
          "metadata": {
            "tags": []
          },
          "execution_count": 40
        }
      ]
    },
    {
      "cell_type": "code",
      "metadata": {
        "id": "jvAjJv65Sjpg",
        "outputId": "d82f3e03-4c88-43bf-9f6b-8430818b2bf1",
        "colab": {
          "base_uri": "https://localhost:8080/",
          "height": 52
        }
      },
      "source": [
        "from sklearn.feature_extraction.text import CountVectorizer\n",
        "vec = CountVectorizer()\n",
        "x_train_count = vec.fit_transform(x_train)\n",
        "x_test_count = vec.transform(x_test)\n",
        "x_train_count"
      ],
      "execution_count": 41,
      "outputs": [
        {
          "output_type": "execute_result",
          "data": {
            "text/plain": [
              "<2731x52294 sparse matrix of type '<class 'numpy.int64'>'\n",
              "\twith 85677 stored elements in Compressed Sparse Row format>"
            ]
          },
          "metadata": {
            "tags": []
          },
          "execution_count": 41
        }
      ]
    },
    {
      "cell_type": "code",
      "metadata": {
        "id": "lnz0yErZT-ut"
      },
      "source": [
        "# 檢查有沒有標點符號或換行符號，Error 表示沒有該符號\n",
        "# vec.vocabulary_[\"\\r\"]"
      ],
      "execution_count": 37,
      "outputs": []
    },
    {
      "cell_type": "code",
      "metadata": {
        "id": "fQpyNiYwULPk"
      },
      "source": [
        "# 要看詳細: print\n",
        "print(x_train_count)"
      ],
      "execution_count": null,
      "outputs": []
    },
    {
      "cell_type": "code",
      "metadata": {
        "id": "7sVBZg_kpYBZ",
        "outputId": "7dd4fdd8-32c5-40c8-e972-83d48f2d12fa",
        "colab": {
          "base_uri": "https://localhost:8080/",
          "height": 35
        }
      },
      "source": [
        "from sklearn.naive_bayes import MultinomialNB\n",
        "# alpha 需要 tune，可以抓 1/100 次數\n",
        "clf = MultinomialNB(alpha=0.01)\n",
        "clf.fit(x_train_count, y_train) # 使用x_train_count, 而非 x_train"
      ],
      "execution_count": 47,
      "outputs": [
        {
          "output_type": "execute_result",
          "data": {
            "text/plain": [
              "MultinomialNB(alpha=0.005, class_prior=None, fit_prior=True)"
            ]
          },
          "metadata": {
            "tags": []
          },
          "execution_count": 47
        }
      ]
    },
    {
      "cell_type": "code",
      "metadata": {
        "id": "6Wj2Xmbip46Y",
        "outputId": "a87a9b6a-e091-4e21-cb80-d3cbc82c94a3",
        "colab": {
          "base_uri": "https://localhost:8080/",
          "height": 35
        }
      },
      "source": [
        "from sklearn.metrics import accuracy_score\n",
        "pre = clf.predict(x_test_count)\n",
        "accuracy_score(pre, y_test)"
      ],
      "execution_count": 48,
      "outputs": [
        {
          "output_type": "execute_result",
          "data": {
            "text/plain": [
              "0.8333333333333334"
            ]
          },
          "metadata": {
            "tags": []
          },
          "execution_count": 48
        }
      ]
    },
    {
      "cell_type": "code",
      "metadata": {
        "id": "xw9qx2snuuzX",
        "outputId": "2230c096-8d25-4f19-b421-510a3d7cc322",
        "colab": {
          "base_uri": "https://localhost:8080/",
          "height": 135
        }
      },
      "source": [
        "from sklearn.metrics import confusion_matrix\n",
        "pd.DataFrame(confusion_matrix(y_test, pre),\n",
        "      index=[name+\"True\" for name in u],\n",
        "      columns=[name+\"Pred\" for name in u])"
      ],
      "execution_count": 50,
      "outputs": [
        {
          "output_type": "execute_result",
          "data": {
            "text/html": [
              "<div>\n",
              "<style scoped>\n",
              "    .dataframe tbody tr th:only-of-type {\n",
              "        vertical-align: middle;\n",
              "    }\n",
              "\n",
              "    .dataframe tbody tr th {\n",
              "        vertical-align: top;\n",
              "    }\n",
              "\n",
              "    .dataframe thead th {\n",
              "        text-align: right;\n",
              "    }\n",
              "</style>\n",
              "<table border=\"1\" class=\"dataframe\">\n",
              "  <thead>\n",
              "    <tr style=\"text-align: right;\">\n",
              "      <th></th>\n",
              "      <th>李白Pred</th>\n",
              "      <th>杜甫Pred</th>\n",
              "      <th>白居易Pred</th>\n",
              "    </tr>\n",
              "  </thead>\n",
              "  <tbody>\n",
              "    <tr>\n",
              "      <th>李白True</th>\n",
              "      <td>8</td>\n",
              "      <td>1</td>\n",
              "      <td>1</td>\n",
              "    </tr>\n",
              "    <tr>\n",
              "      <th>杜甫True</th>\n",
              "      <td>0</td>\n",
              "      <td>9</td>\n",
              "      <td>1</td>\n",
              "    </tr>\n",
              "    <tr>\n",
              "      <th>白居易True</th>\n",
              "      <td>1</td>\n",
              "      <td>1</td>\n",
              "      <td>8</td>\n",
              "    </tr>\n",
              "  </tbody>\n",
              "</table>\n",
              "</div>"
            ],
            "text/plain": [
              "         李白Pred  杜甫Pred  白居易Pred\n",
              "李白True        8       1        1\n",
              "杜甫True        0       9        1\n",
              "白居易True       1       1        8"
            ]
          },
          "metadata": {
            "tags": []
          },
          "execution_count": 50
        }
      ]
    },
    {
      "cell_type": "code",
      "metadata": {
        "id": "c_oNoE5wv1NP",
        "outputId": "490cefc4-6371-476a-c69e-21761f64143f",
        "colab": {
          "base_uri": "https://localhost:8080/",
          "height": 108
        }
      },
      "source": [
        "p = input(\"輸入詩詞:\")\n",
        "# 因為一開始是整批輸入，所以後續輸入也需是List形式\n",
        "test = vec.transform([poemcut(p)])\n",
        "# 因為整批輸入，所以回傳整批機率，但因為只有丟入一筆，所以會回傳一個 list 裡面只包含一組資料，所以要取[0]\n",
        "prob = clf.predict_proba(test)[0]\n",
        "for name, proba in zip(u, prob):\n",
        "  print(name, \"機率 is\", proba)"
      ],
      "execution_count": 63,
      "outputs": [
        {
          "output_type": "stream",
          "text": [
            "輸入詩詞:山泉 在地表蜿蜒 從很久很久以前 我有一張稚氣的臉 泉水滲透進礦層岩爺爺栽種的樟木樹苗在上面  猶記得那年 在一個雨天 那七歲的我躲在屋簷 卻一直想去盪鞦韆 爺爺抽著煙 說唐朝陸羽寫茶經三卷 流傳了千年  那天 我翻閱字典 查什麼字眼 形容一件事 很遙遠 天邊 是否在海角 對面 直到九歲才知道浪費時間  這茶桌樟木的橫切面 年輪有二十三圈 鏡頭的另一邊跳接我成熟的臉 經過這些年 爺爺的手繭 泡在水裡會有茶色蔓延  爺爺泡的茶 有一種味道叫做家 更多更詳盡歌詞 在 ※ Mojim.com　魔鏡歌詞網 (沒法挑剔它 口感味覺還不差) 陸羽泡的茶 聽說名和利都不拿 (他牽著一匹瘦馬走天涯)  爺爺泡的茶 有一種味道叫做家 (他滿頭白髮 喝茶時不准說話) 陸羽泡的茶 像幅潑墨的山水畫 (唐朝千年的風沙 現在還在颳)  啦啦～ 啦啦啦啦啦～ 啦啦～ 啦啦～ 啦啦啦啦啦～ 啦啦～ 啦啦～ 啦啦啦啦啦～ 啦啦～ 啦啦～ 啦啦啦啦啦～\n",
            "李白 機率 is 2.408508160140992e-21\n",
            "杜甫 機率 is 0.12580989863024047\n",
            "白居易 機率 is 0.8741901013697384\n"
          ],
          "name": "stdout"
        }
      ]
    },
    {
      "cell_type": "code",
      "metadata": {
        "id": "JIz1Ug0Oxu9z",
        "outputId": "0682e77c-fc1d-406d-eed0-403e6608f680",
        "colab": {
          "base_uri": "https://localhost:8080/",
          "height": 35
        }
      },
      "source": [
        "li = list(zip([1, 2, 3], [4, 5, 6, 10], [7, 8, 9]))\n",
        "li"
      ],
      "execution_count": 62,
      "outputs": [
        {
          "output_type": "execute_result",
          "data": {
            "text/plain": [
              "[(1, 4, 7), (2, 5, 8), (3, 6, 9)]"
            ]
          },
          "metadata": {
            "tags": []
          },
          "execution_count": 62
        }
      ]
    }
  ]
}