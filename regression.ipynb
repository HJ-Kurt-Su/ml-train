{
  "nbformat": 4,
  "nbformat_minor": 0,
  "metadata": {
    "colab": {
      "name": "regression.ipynb",
      "provenance": [],
      "mount_file_id": "1fs1G5Nm1sGx3gg201O6_0QivSjkD2fWp",
      "authorship_tag": "ABX9TyNC0GHMQj/PIZYvDGtrhA1j",
      "include_colab_link": true
    },
    "kernelspec": {
      "name": "python3",
      "display_name": "Python 3"
    },
    "accelerator": "GPU"
  },
  "cells": [
    {
      "cell_type": "markdown",
      "metadata": {
        "id": "view-in-github",
        "colab_type": "text"
      },
      "source": [
        "<a href=\"https://colab.research.google.com/github/HJ-Kurt-Su/ml-train/blob/main/regression.ipynb\" target=\"_parent\"><img src=\"https://colab.research.google.com/assets/colab-badge.svg\" alt=\"Open In Colab\"/></a>"
      ]
    },
    {
      "cell_type": "code",
      "metadata": {
        "id": "j08Kiae25_XQ",
        "outputId": "f2be4512-3f87-48da-8572-84e27ac96641",
        "colab": {
          "base_uri": "https://localhost:8080/",
          "height": 402
        }
      },
      "source": [
        "import pandas as pd\n",
        "from sklearn.datasets import load_boston\n",
        "\n",
        "boston = load_boston()\n",
        "df = pd.DataFrame(boston[\"data\"], columns=boston[\"feature_names\"])\n",
        "df[\"ans\"] = boston[\"target\"]\n",
        "df.to_csv(\"drive/My Drive/boston.csv\", encoding=\"utf-8\", index=False)\n",
        "df\n"
      ],
      "execution_count": 3,
      "outputs": [
        {
          "output_type": "execute_result",
          "data": {
            "text/html": [
              "<div>\n",
              "<style scoped>\n",
              "    .dataframe tbody tr th:only-of-type {\n",
              "        vertical-align: middle;\n",
              "    }\n",
              "\n",
              "    .dataframe tbody tr th {\n",
              "        vertical-align: top;\n",
              "    }\n",
              "\n",
              "    .dataframe thead th {\n",
              "        text-align: right;\n",
              "    }\n",
              "</style>\n",
              "<table border=\"1\" class=\"dataframe\">\n",
              "  <thead>\n",
              "    <tr style=\"text-align: right;\">\n",
              "      <th></th>\n",
              "      <th>CRIM</th>\n",
              "      <th>ZN</th>\n",
              "      <th>INDUS</th>\n",
              "      <th>CHAS</th>\n",
              "      <th>NOX</th>\n",
              "      <th>RM</th>\n",
              "      <th>AGE</th>\n",
              "      <th>DIS</th>\n",
              "      <th>RAD</th>\n",
              "      <th>TAX</th>\n",
              "      <th>PTRATIO</th>\n",
              "      <th>B</th>\n",
              "      <th>LSTAT</th>\n",
              "      <th>ans</th>\n",
              "    </tr>\n",
              "  </thead>\n",
              "  <tbody>\n",
              "    <tr>\n",
              "      <th>0</th>\n",
              "      <td>0.00632</td>\n",
              "      <td>18.0</td>\n",
              "      <td>2.31</td>\n",
              "      <td>0.0</td>\n",
              "      <td>0.538</td>\n",
              "      <td>6.575</td>\n",
              "      <td>65.2</td>\n",
              "      <td>4.0900</td>\n",
              "      <td>1.0</td>\n",
              "      <td>296.0</td>\n",
              "      <td>15.3</td>\n",
              "      <td>396.90</td>\n",
              "      <td>4.98</td>\n",
              "      <td>24.0</td>\n",
              "    </tr>\n",
              "    <tr>\n",
              "      <th>1</th>\n",
              "      <td>0.02731</td>\n",
              "      <td>0.0</td>\n",
              "      <td>7.07</td>\n",
              "      <td>0.0</td>\n",
              "      <td>0.469</td>\n",
              "      <td>6.421</td>\n",
              "      <td>78.9</td>\n",
              "      <td>4.9671</td>\n",
              "      <td>2.0</td>\n",
              "      <td>242.0</td>\n",
              "      <td>17.8</td>\n",
              "      <td>396.90</td>\n",
              "      <td>9.14</td>\n",
              "      <td>21.6</td>\n",
              "    </tr>\n",
              "    <tr>\n",
              "      <th>2</th>\n",
              "      <td>0.02729</td>\n",
              "      <td>0.0</td>\n",
              "      <td>7.07</td>\n",
              "      <td>0.0</td>\n",
              "      <td>0.469</td>\n",
              "      <td>7.185</td>\n",
              "      <td>61.1</td>\n",
              "      <td>4.9671</td>\n",
              "      <td>2.0</td>\n",
              "      <td>242.0</td>\n",
              "      <td>17.8</td>\n",
              "      <td>392.83</td>\n",
              "      <td>4.03</td>\n",
              "      <td>34.7</td>\n",
              "    </tr>\n",
              "    <tr>\n",
              "      <th>3</th>\n",
              "      <td>0.03237</td>\n",
              "      <td>0.0</td>\n",
              "      <td>2.18</td>\n",
              "      <td>0.0</td>\n",
              "      <td>0.458</td>\n",
              "      <td>6.998</td>\n",
              "      <td>45.8</td>\n",
              "      <td>6.0622</td>\n",
              "      <td>3.0</td>\n",
              "      <td>222.0</td>\n",
              "      <td>18.7</td>\n",
              "      <td>394.63</td>\n",
              "      <td>2.94</td>\n",
              "      <td>33.4</td>\n",
              "    </tr>\n",
              "    <tr>\n",
              "      <th>4</th>\n",
              "      <td>0.06905</td>\n",
              "      <td>0.0</td>\n",
              "      <td>2.18</td>\n",
              "      <td>0.0</td>\n",
              "      <td>0.458</td>\n",
              "      <td>7.147</td>\n",
              "      <td>54.2</td>\n",
              "      <td>6.0622</td>\n",
              "      <td>3.0</td>\n",
              "      <td>222.0</td>\n",
              "      <td>18.7</td>\n",
              "      <td>396.90</td>\n",
              "      <td>5.33</td>\n",
              "      <td>36.2</td>\n",
              "    </tr>\n",
              "    <tr>\n",
              "      <th>...</th>\n",
              "      <td>...</td>\n",
              "      <td>...</td>\n",
              "      <td>...</td>\n",
              "      <td>...</td>\n",
              "      <td>...</td>\n",
              "      <td>...</td>\n",
              "      <td>...</td>\n",
              "      <td>...</td>\n",
              "      <td>...</td>\n",
              "      <td>...</td>\n",
              "      <td>...</td>\n",
              "      <td>...</td>\n",
              "      <td>...</td>\n",
              "      <td>...</td>\n",
              "    </tr>\n",
              "    <tr>\n",
              "      <th>501</th>\n",
              "      <td>0.06263</td>\n",
              "      <td>0.0</td>\n",
              "      <td>11.93</td>\n",
              "      <td>0.0</td>\n",
              "      <td>0.573</td>\n",
              "      <td>6.593</td>\n",
              "      <td>69.1</td>\n",
              "      <td>2.4786</td>\n",
              "      <td>1.0</td>\n",
              "      <td>273.0</td>\n",
              "      <td>21.0</td>\n",
              "      <td>391.99</td>\n",
              "      <td>9.67</td>\n",
              "      <td>22.4</td>\n",
              "    </tr>\n",
              "    <tr>\n",
              "      <th>502</th>\n",
              "      <td>0.04527</td>\n",
              "      <td>0.0</td>\n",
              "      <td>11.93</td>\n",
              "      <td>0.0</td>\n",
              "      <td>0.573</td>\n",
              "      <td>6.120</td>\n",
              "      <td>76.7</td>\n",
              "      <td>2.2875</td>\n",
              "      <td>1.0</td>\n",
              "      <td>273.0</td>\n",
              "      <td>21.0</td>\n",
              "      <td>396.90</td>\n",
              "      <td>9.08</td>\n",
              "      <td>20.6</td>\n",
              "    </tr>\n",
              "    <tr>\n",
              "      <th>503</th>\n",
              "      <td>0.06076</td>\n",
              "      <td>0.0</td>\n",
              "      <td>11.93</td>\n",
              "      <td>0.0</td>\n",
              "      <td>0.573</td>\n",
              "      <td>6.976</td>\n",
              "      <td>91.0</td>\n",
              "      <td>2.1675</td>\n",
              "      <td>1.0</td>\n",
              "      <td>273.0</td>\n",
              "      <td>21.0</td>\n",
              "      <td>396.90</td>\n",
              "      <td>5.64</td>\n",
              "      <td>23.9</td>\n",
              "    </tr>\n",
              "    <tr>\n",
              "      <th>504</th>\n",
              "      <td>0.10959</td>\n",
              "      <td>0.0</td>\n",
              "      <td>11.93</td>\n",
              "      <td>0.0</td>\n",
              "      <td>0.573</td>\n",
              "      <td>6.794</td>\n",
              "      <td>89.3</td>\n",
              "      <td>2.3889</td>\n",
              "      <td>1.0</td>\n",
              "      <td>273.0</td>\n",
              "      <td>21.0</td>\n",
              "      <td>393.45</td>\n",
              "      <td>6.48</td>\n",
              "      <td>22.0</td>\n",
              "    </tr>\n",
              "    <tr>\n",
              "      <th>505</th>\n",
              "      <td>0.04741</td>\n",
              "      <td>0.0</td>\n",
              "      <td>11.93</td>\n",
              "      <td>0.0</td>\n",
              "      <td>0.573</td>\n",
              "      <td>6.030</td>\n",
              "      <td>80.8</td>\n",
              "      <td>2.5050</td>\n",
              "      <td>1.0</td>\n",
              "      <td>273.0</td>\n",
              "      <td>21.0</td>\n",
              "      <td>396.90</td>\n",
              "      <td>7.88</td>\n",
              "      <td>11.9</td>\n",
              "    </tr>\n",
              "  </tbody>\n",
              "</table>\n",
              "<p>506 rows × 14 columns</p>\n",
              "</div>"
            ],
            "text/plain": [
              "        CRIM    ZN  INDUS  CHAS    NOX  ...    TAX  PTRATIO       B  LSTAT   ans\n",
              "0    0.00632  18.0   2.31   0.0  0.538  ...  296.0     15.3  396.90   4.98  24.0\n",
              "1    0.02731   0.0   7.07   0.0  0.469  ...  242.0     17.8  396.90   9.14  21.6\n",
              "2    0.02729   0.0   7.07   0.0  0.469  ...  242.0     17.8  392.83   4.03  34.7\n",
              "3    0.03237   0.0   2.18   0.0  0.458  ...  222.0     18.7  394.63   2.94  33.4\n",
              "4    0.06905   0.0   2.18   0.0  0.458  ...  222.0     18.7  396.90   5.33  36.2\n",
              "..       ...   ...    ...   ...    ...  ...    ...      ...     ...    ...   ...\n",
              "501  0.06263   0.0  11.93   0.0  0.573  ...  273.0     21.0  391.99   9.67  22.4\n",
              "502  0.04527   0.0  11.93   0.0  0.573  ...  273.0     21.0  396.90   9.08  20.6\n",
              "503  0.06076   0.0  11.93   0.0  0.573  ...  273.0     21.0  396.90   5.64  23.9\n",
              "504  0.10959   0.0  11.93   0.0  0.573  ...  273.0     21.0  393.45   6.48  22.0\n",
              "505  0.04741   0.0  11.93   0.0  0.573  ...  273.0     21.0  396.90   7.88  11.9\n",
              "\n",
              "[506 rows x 14 columns]"
            ]
          },
          "metadata": {
            "tags": []
          },
          "execution_count": 3
        }
      ]
    },
    {
      "cell_type": "code",
      "metadata": {
        "id": "zXrV8TDRK3eK",
        "outputId": "df07ffa8-3b34-4dbc-b37d-6a9913da1227",
        "colab": {
          "base_uri": "https://localhost:8080/",
          "height": 34
        }
      },
      "source": [
        "import numpy as np\n",
        "from sklearn.model_selection import train_test_split\n",
        "\n",
        "x = np.array(df.drop([\"ans\"], axis=1))\n",
        "y = np.array(df[\"ans\"])\n",
        "\n",
        "x_train, x_test, y_train, y_test = train_test_split(x, y, test_size=0.2)\n",
        "print(np.shape(x_train))\n"
      ],
      "execution_count": 7,
      "outputs": [
        {
          "output_type": "stream",
          "text": [
            "(404, 13)\n"
          ],
          "name": "stdout"
        }
      ]
    },
    {
      "cell_type": "code",
      "metadata": {
        "id": "6vX9HSbINLMU",
        "outputId": "ab0b0828-dd50-4c6c-de31-8cf7648b6156",
        "colab": {
          "base_uri": "https://localhost:8080/",
          "height": 118
        }
      },
      "source": [
        "from sklearn.tree import DecisionTreeRegressor\n",
        "from sklearn import tree\n",
        "\n",
        "reg = DecisionTreeRegressor(max_depth=5)\n",
        "reg.fit(x_train, y_train)\n",
        "# tree.plot_tree(clf) "
      ],
      "execution_count": 11,
      "outputs": [
        {
          "output_type": "execute_result",
          "data": {
            "text/plain": [
              "DecisionTreeRegressor(ccp_alpha=0.0, criterion='mse', max_depth=5,\n",
              "                      max_features=None, max_leaf_nodes=None,\n",
              "                      min_impurity_decrease=0.0, min_impurity_split=None,\n",
              "                      min_samples_leaf=1, min_samples_split=2,\n",
              "                      min_weight_fraction_leaf=0.0, presort='deprecated',\n",
              "                      random_state=None, splitter='best')"
            ]
          },
          "metadata": {
            "tags": []
          },
          "execution_count": 11
        }
      ]
    },
    {
      "cell_type": "code",
      "metadata": {
        "id": "GJLqD80tNwAU",
        "outputId": "3a9c2cb4-bc3c-4230-fb44-6063e8af3225",
        "colab": {
          "base_uri": "https://localhost:8080/",
          "height": 816
        }
      },
      "source": [
        "import graphviz\n",
        "from sklearn.tree import export_graphviz\n",
        "g = export_graphviz(reg,\n",
        "          feature_names=boston[\"feature_names\"],\n",
        "          filled=True)\n",
        "graphviz.Source(g)"
      ],
      "execution_count": 12,
      "outputs": [
        {
          "output_type": "execute_result",
          "data": {
            "text/plain": [
              "<graphviz.files.Source at 0x7fa6470c2f98>"
            ],
            "image/svg+xml": "<?xml version=\"1.0\" encoding=\"UTF-8\" standalone=\"no\"?>\n<!DOCTYPE svg PUBLIC \"-//W3C//DTD SVG 1.1//EN\"\n \"http://www.w3.org/Graphics/SVG/1.1/DTD/svg11.dtd\">\n<!-- Generated by graphviz version 2.40.1 (20161225.0304)\n -->\n<!-- Title: Tree Pages: 1 -->\n<svg width=\"2390pt\" height=\"581pt\"\n viewBox=\"0.00 0.00 2390.00 581.00\" xmlns=\"http://www.w3.org/2000/svg\" xmlns:xlink=\"http://www.w3.org/1999/xlink\">\n<g id=\"graph0\" class=\"graph\" transform=\"scale(1 1) rotate(0) translate(4 577)\">\n<title>Tree</title>\n<polygon fill=\"#ffffff\" stroke=\"transparent\" points=\"-4,4 -4,-577 2386,-577 2386,4 -4,4\"/>\n<!-- 0 -->\n<g id=\"node1\" class=\"node\">\n<title>0</title>\n<polygon fill=\"#f6d5bc\" stroke=\"#000000\" points=\"1020,-573 902,-573 902,-505 1020,-505 1020,-573\"/>\n<text text-anchor=\"middle\" x=\"961\" y=\"-557.8\" font-family=\"Times,serif\" font-size=\"14.00\" fill=\"#000000\">LSTAT &lt;= 9.725</text>\n<text text-anchor=\"middle\" x=\"961\" y=\"-542.8\" font-family=\"Times,serif\" font-size=\"14.00\" fill=\"#000000\">mse = 87.979</text>\n<text text-anchor=\"middle\" x=\"961\" y=\"-527.8\" font-family=\"Times,serif\" font-size=\"14.00\" fill=\"#000000\">samples = 404</text>\n<text text-anchor=\"middle\" x=\"961\" y=\"-512.8\" font-family=\"Times,serif\" font-size=\"14.00\" fill=\"#000000\">value = 22.548</text>\n</g>\n<!-- 1 -->\n<g id=\"node2\" class=\"node\">\n<title>1</title>\n<polygon fill=\"#f2be99\" stroke=\"#000000\" points=\"753,-469 649,-469 649,-401 753,-401 753,-469\"/>\n<text text-anchor=\"middle\" x=\"701\" y=\"-453.8\" font-family=\"Times,serif\" font-size=\"14.00\" fill=\"#000000\">RM &lt;= 7.445</text>\n<text text-anchor=\"middle\" x=\"701\" y=\"-438.8\" font-family=\"Times,serif\" font-size=\"14.00\" fill=\"#000000\">mse = 84.485</text>\n<text text-anchor=\"middle\" x=\"701\" y=\"-423.8\" font-family=\"Times,serif\" font-size=\"14.00\" fill=\"#000000\">samples = 167</text>\n<text text-anchor=\"middle\" x=\"701\" y=\"-408.8\" font-family=\"Times,serif\" font-size=\"14.00\" fill=\"#000000\">value = 30.034</text>\n</g>\n<!-- 0&#45;&gt;1 -->\n<g id=\"edge1\" class=\"edge\">\n<title>0&#45;&gt;1</title>\n<path fill=\"none\" stroke=\"#000000\" d=\"M901.6766,-515.2707C860.0147,-498.6059 804.4387,-476.3755 762.3376,-459.535\"/>\n<polygon fill=\"#000000\" stroke=\"#000000\" points=\"763.613,-456.2756 753.0284,-455.8113 761.0132,-462.775 763.613,-456.2756\"/>\n<text text-anchor=\"middle\" x=\"762.8763\" y=\"-475.09\" font-family=\"Times,serif\" font-size=\"14.00\" fill=\"#000000\">True</text>\n</g>\n<!-- 20 -->\n<g id=\"node21\" class=\"node\">\n<title>20</title>\n<polygon fill=\"#fae5d6\" stroke=\"#000000\" points=\"1291.5,-469 1166.5,-469 1166.5,-401 1291.5,-401 1291.5,-469\"/>\n<text text-anchor=\"middle\" x=\"1229\" y=\"-453.8\" font-family=\"Times,serif\" font-size=\"14.00\" fill=\"#000000\">LSTAT &lt;= 16.085</text>\n<text text-anchor=\"middle\" x=\"1229\" y=\"-438.8\" font-family=\"Times,serif\" font-size=\"14.00\" fill=\"#000000\">mse = 23.121</text>\n<text text-anchor=\"middle\" x=\"1229\" y=\"-423.8\" font-family=\"Times,serif\" font-size=\"14.00\" fill=\"#000000\">samples = 237</text>\n<text text-anchor=\"middle\" x=\"1229\" y=\"-408.8\" font-family=\"Times,serif\" font-size=\"14.00\" fill=\"#000000\">value = 17.273</text>\n</g>\n<!-- 0&#45;&gt;20 -->\n<g id=\"edge20\" class=\"edge\">\n<title>0&#45;&gt;20</title>\n<path fill=\"none\" stroke=\"#000000\" d=\"M1020.1455,-516.048C1060.4151,-500.421 1113.9644,-479.6407 1156.7579,-463.0343\"/>\n<polygon fill=\"#000000\" stroke=\"#000000\" points=\"1158.2159,-466.2228 1166.2723,-459.3421 1155.6834,-459.697 1158.2159,-466.2228\"/>\n<text text-anchor=\"middle\" x=\"1156.1874\" y=\"-478.5177\" font-family=\"Times,serif\" font-size=\"14.00\" fill=\"#000000\">False</text>\n</g>\n<!-- 2 -->\n<g id=\"node3\" class=\"node\">\n<title>2</title>\n<polygon fill=\"#f3c6a5\" stroke=\"#000000\" points=\"404,-365 300,-365 300,-297 404,-297 404,-365\"/>\n<text text-anchor=\"middle\" x=\"352\" y=\"-349.8\" font-family=\"Times,serif\" font-size=\"14.00\" fill=\"#000000\">DIS &lt;= 1.485</text>\n<text text-anchor=\"middle\" x=\"352\" y=\"-334.8\" font-family=\"Times,serif\" font-size=\"14.00\" fill=\"#000000\">mse = 45.653</text>\n<text text-anchor=\"middle\" x=\"352\" y=\"-319.8\" font-family=\"Times,serif\" font-size=\"14.00\" fill=\"#000000\">samples = 144</text>\n<text text-anchor=\"middle\" x=\"352\" y=\"-304.8\" font-family=\"Times,serif\" font-size=\"14.00\" fill=\"#000000\">value = 27.434</text>\n</g>\n<!-- 1&#45;&gt;2 -->\n<g id=\"edge2\" class=\"edge\">\n<title>1&#45;&gt;2</title>\n<path fill=\"none\" stroke=\"#000000\" d=\"M648.7512,-419.4301C585.9893,-400.7275 480.8264,-369.3895 414.011,-349.4789\"/>\n<polygon fill=\"#000000\" stroke=\"#000000\" points=\"414.6184,-346.0079 404.0353,-346.5062 412.6192,-352.7164 414.6184,-346.0079\"/>\n</g>\n<!-- 11 -->\n<g id=\"node12\" class=\"node\">\n<title>11</title>\n<polygon fill=\"#e78c4b\" stroke=\"#000000\" points=\"764.5,-365 637.5,-365 637.5,-297 764.5,-297 764.5,-365\"/>\n<text text-anchor=\"middle\" x=\"701\" y=\"-349.8\" font-family=\"Times,serif\" font-size=\"14.00\" fill=\"#000000\">PTRATIO &lt;= 17.9</text>\n<text text-anchor=\"middle\" x=\"701\" y=\"-334.8\" font-family=\"Times,serif\" font-size=\"14.00\" fill=\"#000000\">mse = 20.278</text>\n<text text-anchor=\"middle\" x=\"701\" y=\"-319.8\" font-family=\"Times,serif\" font-size=\"14.00\" fill=\"#000000\">samples = 23</text>\n<text text-anchor=\"middle\" x=\"701\" y=\"-304.8\" font-family=\"Times,serif\" font-size=\"14.00\" fill=\"#000000\">value = 46.313</text>\n</g>\n<!-- 1&#45;&gt;11 -->\n<g id=\"edge11\" class=\"edge\">\n<title>1&#45;&gt;11</title>\n<path fill=\"none\" stroke=\"#000000\" d=\"M701,-400.9465C701,-392.776 701,-383.9318 701,-375.3697\"/>\n<polygon fill=\"#000000\" stroke=\"#000000\" points=\"704.5001,-375.13 701,-365.13 697.5001,-375.13 704.5001,-375.13\"/>\n</g>\n<!-- 3 -->\n<g id=\"node4\" class=\"node\">\n<title>3</title>\n<polygon fill=\"#e58139\" stroke=\"#000000\" points=\"281.5,-253.5 192.5,-253.5 192.5,-200.5 281.5,-200.5 281.5,-253.5\"/>\n<text text-anchor=\"middle\" x=\"237\" y=\"-238.3\" font-family=\"Times,serif\" font-size=\"14.00\" fill=\"#000000\">mse = 0.0</text>\n<text text-anchor=\"middle\" x=\"237\" y=\"-223.3\" font-family=\"Times,serif\" font-size=\"14.00\" fill=\"#000000\">samples = 5</text>\n<text text-anchor=\"middle\" x=\"237\" y=\"-208.3\" font-family=\"Times,serif\" font-size=\"14.00\" fill=\"#000000\">value = 50.0</text>\n</g>\n<!-- 2&#45;&gt;3 -->\n<g id=\"edge3\" class=\"edge\">\n<title>2&#45;&gt;3</title>\n<path fill=\"none\" stroke=\"#000000\" d=\"M314.3447,-296.9465C301.3122,-285.1606 286.7294,-271.9726 273.7689,-260.2519\"/>\n<polygon fill=\"#000000\" stroke=\"#000000\" points=\"276.114,-257.6537 266.3495,-253.5422 271.4188,-262.8456 276.114,-257.6537\"/>\n</g>\n<!-- 4 -->\n<g id=\"node5\" class=\"node\">\n<title>4</title>\n<polygon fill=\"#f4c8a9\" stroke=\"#000000\" points=\"404,-261 300,-261 300,-193 404,-193 404,-261\"/>\n<text text-anchor=\"middle\" x=\"352\" y=\"-245.8\" font-family=\"Times,serif\" font-size=\"14.00\" fill=\"#000000\">RM &lt;= 6.797</text>\n<text text-anchor=\"middle\" x=\"352\" y=\"-230.8\" font-family=\"Times,serif\" font-size=\"14.00\" fill=\"#000000\">mse = 28.319</text>\n<text text-anchor=\"middle\" x=\"352\" y=\"-215.8\" font-family=\"Times,serif\" font-size=\"14.00\" fill=\"#000000\">samples = 139</text>\n<text text-anchor=\"middle\" x=\"352\" y=\"-200.8\" font-family=\"Times,serif\" font-size=\"14.00\" fill=\"#000000\">value = 26.622</text>\n</g>\n<!-- 2&#45;&gt;4 -->\n<g id=\"edge4\" class=\"edge\">\n<title>2&#45;&gt;4</title>\n<path fill=\"none\" stroke=\"#000000\" d=\"M352,-296.9465C352,-288.776 352,-279.9318 352,-271.3697\"/>\n<polygon fill=\"#000000\" stroke=\"#000000\" points=\"355.5001,-271.13 352,-261.13 348.5001,-271.13 355.5001,-271.13\"/>\n</g>\n<!-- 5 -->\n<g id=\"node6\" class=\"node\">\n<title>5</title>\n<polygon fill=\"#f5d0b5\" stroke=\"#000000\" points=\"222.5,-157 125.5,-157 125.5,-89 222.5,-89 222.5,-157\"/>\n<text text-anchor=\"middle\" x=\"174\" y=\"-141.8\" font-family=\"Times,serif\" font-size=\"14.00\" fill=\"#000000\">RM &lt;= 6.125</text>\n<text text-anchor=\"middle\" x=\"174\" y=\"-126.8\" font-family=\"Times,serif\" font-size=\"14.00\" fill=\"#000000\">mse = 12.276</text>\n<text text-anchor=\"middle\" x=\"174\" y=\"-111.8\" font-family=\"Times,serif\" font-size=\"14.00\" fill=\"#000000\">samples = 98</text>\n<text text-anchor=\"middle\" x=\"174\" y=\"-96.8\" font-family=\"Times,serif\" font-size=\"14.00\" fill=\"#000000\">value = 24.14</text>\n</g>\n<!-- 4&#45;&gt;5 -->\n<g id=\"edge5\" class=\"edge\">\n<title>4&#45;&gt;5</title>\n<path fill=\"none\" stroke=\"#000000\" d=\"M299.5569,-196.3591C278.1956,-183.8783 253.4337,-169.4107 231.5738,-156.6387\"/>\n<polygon fill=\"#000000\" stroke=\"#000000\" points=\"233.1201,-153.4885 222.7202,-151.4657 229.5888,-159.5325 233.1201,-153.4885\"/>\n</g>\n<!-- 8 -->\n<g id=\"node9\" class=\"node\">\n<title>8</title>\n<polygon fill=\"#f0b68d\" stroke=\"#000000\" points=\"419,-157 285,-157 285,-89 419,-89 419,-157\"/>\n<text text-anchor=\"middle\" x=\"352\" y=\"-141.8\" font-family=\"Times,serif\" font-size=\"14.00\" fill=\"#000000\">PTRATIO &lt;= 19.45</text>\n<text text-anchor=\"middle\" x=\"352\" y=\"-126.8\" font-family=\"Times,serif\" font-size=\"14.00\" fill=\"#000000\">mse = 16.723</text>\n<text text-anchor=\"middle\" x=\"352\" y=\"-111.8\" font-family=\"Times,serif\" font-size=\"14.00\" fill=\"#000000\">samples = 41</text>\n<text text-anchor=\"middle\" x=\"352\" y=\"-96.8\" font-family=\"Times,serif\" font-size=\"14.00\" fill=\"#000000\">value = 32.556</text>\n</g>\n<!-- 4&#45;&gt;8 -->\n<g id=\"edge8\" class=\"edge\">\n<title>4&#45;&gt;8</title>\n<path fill=\"none\" stroke=\"#000000\" d=\"M352,-192.9465C352,-184.776 352,-175.9318 352,-167.3697\"/>\n<polygon fill=\"#000000\" stroke=\"#000000\" points=\"355.5001,-167.13 352,-157.13 348.5001,-167.13 355.5001,-167.13\"/>\n</g>\n<!-- 6 -->\n<g id=\"node7\" class=\"node\">\n<title>6</title>\n<polygon fill=\"#f7dac5\" stroke=\"#000000\" points=\"104,-53 0,-53 0,0 104,0 104,-53\"/>\n<text text-anchor=\"middle\" x=\"52\" y=\"-37.8\" font-family=\"Times,serif\" font-size=\"14.00\" fill=\"#000000\">mse = 7.728</text>\n<text text-anchor=\"middle\" x=\"52\" y=\"-22.8\" font-family=\"Times,serif\" font-size=\"14.00\" fill=\"#000000\">samples = 22</text>\n<text text-anchor=\"middle\" x=\"52\" y=\"-7.8\" font-family=\"Times,serif\" font-size=\"14.00\" fill=\"#000000\">value = 20.714</text>\n</g>\n<!-- 5&#45;&gt;6 -->\n<g id=\"edge6\" class=\"edge\">\n<title>5&#45;&gt;6</title>\n<path fill=\"none\" stroke=\"#000000\" d=\"M130.9874,-88.9777C118.9476,-79.4545 105.8812,-69.1191 93.9065,-59.6473\"/>\n<polygon fill=\"#000000\" stroke=\"#000000\" points=\"95.8311,-56.7072 85.8167,-53.2485 91.4885,-62.1973 95.8311,-56.7072\"/>\n</g>\n<!-- 7 -->\n<g id=\"node8\" class=\"node\">\n<title>7</title>\n<polygon fill=\"#f5cdb0\" stroke=\"#000000\" points=\"226,-53 122,-53 122,0 226,0 226,-53\"/>\n<text text-anchor=\"middle\" x=\"174\" y=\"-37.8\" font-family=\"Times,serif\" font-size=\"14.00\" fill=\"#000000\">mse = 9.211</text>\n<text text-anchor=\"middle\" x=\"174\" y=\"-22.8\" font-family=\"Times,serif\" font-size=\"14.00\" fill=\"#000000\">samples = 76</text>\n<text text-anchor=\"middle\" x=\"174\" y=\"-7.8\" font-family=\"Times,serif\" font-size=\"14.00\" fill=\"#000000\">value = 25.132</text>\n</g>\n<!-- 5&#45;&gt;7 -->\n<g id=\"edge7\" class=\"edge\">\n<title>5&#45;&gt;7</title>\n<path fill=\"none\" stroke=\"#000000\" d=\"M174,-88.9777C174,-80.7364 174,-71.887 174,-63.5153\"/>\n<polygon fill=\"#000000\" stroke=\"#000000\" points=\"177.5001,-63.2484 174,-53.2485 170.5001,-63.2485 177.5001,-63.2484\"/>\n</g>\n<!-- 9 -->\n<g id=\"node10\" class=\"node\">\n<title>9</title>\n<polygon fill=\"#f0b48a\" stroke=\"#000000\" points=\"348,-53 244,-53 244,0 348,0 348,-53\"/>\n<text text-anchor=\"middle\" x=\"296\" y=\"-37.8\" font-family=\"Times,serif\" font-size=\"14.00\" fill=\"#000000\">mse = 13.296</text>\n<text text-anchor=\"middle\" x=\"296\" y=\"-22.8\" font-family=\"Times,serif\" font-size=\"14.00\" fill=\"#000000\">samples = 38</text>\n<text text-anchor=\"middle\" x=\"296\" y=\"-7.8\" font-family=\"Times,serif\" font-size=\"14.00\" fill=\"#000000\">value = 33.139</text>\n</g>\n<!-- 8&#45;&gt;9 -->\n<g id=\"edge9\" class=\"edge\">\n<title>8&#45;&gt;9</title>\n<path fill=\"none\" stroke=\"#000000\" d=\"M332.2565,-88.9777C327.2083,-80.2786 321.7669,-70.9018 316.6734,-62.1247\"/>\n<polygon fill=\"#000000\" stroke=\"#000000\" points=\"319.5689,-60.1409 311.5224,-53.2485 313.5145,-63.6544 319.5689,-60.1409\"/>\n</g>\n<!-- 10 -->\n<g id=\"node11\" class=\"node\">\n<title>10</title>\n<polygon fill=\"#f5cdb0\" stroke=\"#000000\" points=\"470,-53 366,-53 366,0 470,0 470,-53\"/>\n<text text-anchor=\"middle\" x=\"418\" y=\"-37.8\" font-family=\"Times,serif\" font-size=\"14.00\" fill=\"#000000\">mse = 1.229</text>\n<text text-anchor=\"middle\" x=\"418\" y=\"-22.8\" font-family=\"Times,serif\" font-size=\"14.00\" fill=\"#000000\">samples = 3</text>\n<text text-anchor=\"middle\" x=\"418\" y=\"-7.8\" font-family=\"Times,serif\" font-size=\"14.00\" fill=\"#000000\">value = 25.167</text>\n</g>\n<!-- 8&#45;&gt;10 -->\n<g id=\"edge10\" class=\"edge\">\n<title>8&#45;&gt;10</title>\n<path fill=\"none\" stroke=\"#000000\" d=\"M375.2691,-88.9777C381.344,-80.0954 387.9021,-70.5067 394.0135,-61.5711\"/>\n<polygon fill=\"#000000\" stroke=\"#000000\" points=\"396.9493,-63.4785 399.7057,-53.2485 391.1714,-59.5267 396.9493,-63.4785\"/>\n</g>\n<!-- 12 -->\n<g id=\"node13\" class=\"node\">\n<title>12</title>\n<polygon fill=\"#e78a46\" stroke=\"#000000\" points=\"693.5,-261 582.5,-261 582.5,-193 693.5,-193 693.5,-261\"/>\n<text text-anchor=\"middle\" x=\"638\" y=\"-245.8\" font-family=\"Times,serif\" font-size=\"14.00\" fill=\"#000000\">CRIM &lt;= 0.577</text>\n<text text-anchor=\"middle\" x=\"638\" y=\"-230.8\" font-family=\"Times,serif\" font-size=\"14.00\" fill=\"#000000\">mse = 12.773</text>\n<text text-anchor=\"middle\" x=\"638\" y=\"-215.8\" font-family=\"Times,serif\" font-size=\"14.00\" fill=\"#000000\">samples = 21</text>\n<text text-anchor=\"middle\" x=\"638\" y=\"-200.8\" font-family=\"Times,serif\" font-size=\"14.00\" fill=\"#000000\">value = 47.205</text>\n</g>\n<!-- 11&#45;&gt;12 -->\n<g id=\"edge12\" class=\"edge\">\n<title>11&#45;&gt;12</title>\n<path fill=\"none\" stroke=\"#000000\" d=\"M680.3714,-296.9465C675.1501,-288.3271 669.4745,-278.9579 664.0245,-269.9611\"/>\n<polygon fill=\"#000000\" stroke=\"#000000\" points=\"666.8497,-267.8697 658.6749,-261.13 660.8626,-271.4965 666.8497,-267.8697\"/>\n</g>\n<!-- 17 -->\n<g id=\"node18\" class=\"node\">\n<title>17</title>\n<polygon fill=\"#eda978\" stroke=\"#000000\" points=\"818,-261 712,-261 712,-193 818,-193 818,-261\"/>\n<text text-anchor=\"middle\" x=\"765\" y=\"-245.8\" font-family=\"Times,serif\" font-size=\"14.00\" fill=\"#000000\">NOX &lt;= 0.454</text>\n<text text-anchor=\"middle\" x=\"765\" y=\"-230.8\" font-family=\"Times,serif\" font-size=\"14.00\" fill=\"#000000\">mse = 3.062</text>\n<text text-anchor=\"middle\" x=\"765\" y=\"-215.8\" font-family=\"Times,serif\" font-size=\"14.00\" fill=\"#000000\">samples = 2</text>\n<text text-anchor=\"middle\" x=\"765\" y=\"-200.8\" font-family=\"Times,serif\" font-size=\"14.00\" fill=\"#000000\">value = 36.95</text>\n</g>\n<!-- 11&#45;&gt;17 -->\n<g id=\"edge17\" class=\"edge\">\n<title>11&#45;&gt;17</title>\n<path fill=\"none\" stroke=\"#000000\" d=\"M721.956,-296.9465C727.3155,-288.2373 733.1461,-278.7626 738.7353,-269.6801\"/>\n<polygon fill=\"#000000\" stroke=\"#000000\" points=\"741.7367,-271.481 743.9969,-261.13 735.7751,-267.8122 741.7367,-271.481\"/>\n</g>\n<!-- 13 -->\n<g id=\"node14\" class=\"node\">\n<title>13</title>\n<polygon fill=\"#e78d4c\" stroke=\"#000000\" points=\"585,-157 481,-157 481,-89 585,-89 585,-157\"/>\n<text text-anchor=\"middle\" x=\"533\" y=\"-141.8\" font-family=\"Times,serif\" font-size=\"14.00\" fill=\"#000000\">TAX &lt;= 259.5</text>\n<text text-anchor=\"middle\" x=\"533\" y=\"-126.8\" font-family=\"Times,serif\" font-size=\"14.00\" fill=\"#000000\">mse = 13.506</text>\n<text text-anchor=\"middle\" x=\"533\" y=\"-111.8\" font-family=\"Times,serif\" font-size=\"14.00\" fill=\"#000000\">samples = 15</text>\n<text text-anchor=\"middle\" x=\"533\" y=\"-96.8\" font-family=\"Times,serif\" font-size=\"14.00\" fill=\"#000000\">value = 46.087</text>\n</g>\n<!-- 12&#45;&gt;13 -->\n<g id=\"edge13\" class=\"edge\">\n<title>12&#45;&gt;13</title>\n<path fill=\"none\" stroke=\"#000000\" d=\"M603.6191,-192.9465C594.3729,-183.7884 584.2721,-173.7838 574.6757,-164.2788\"/>\n<polygon fill=\"#000000\" stroke=\"#000000\" points=\"577.026,-161.6805 567.4582,-157.13 572.1,-166.6539 577.026,-161.6805\"/>\n</g>\n<!-- 16 -->\n<g id=\"node17\" class=\"node\">\n<title>16</title>\n<polygon fill=\"#e58139\" stroke=\"#000000\" points=\"692.5,-149.5 603.5,-149.5 603.5,-96.5 692.5,-96.5 692.5,-149.5\"/>\n<text text-anchor=\"middle\" x=\"648\" y=\"-134.3\" font-family=\"Times,serif\" font-size=\"14.00\" fill=\"#000000\">mse = 0.0</text>\n<text text-anchor=\"middle\" x=\"648\" y=\"-119.3\" font-family=\"Times,serif\" font-size=\"14.00\" fill=\"#000000\">samples = 6</text>\n<text text-anchor=\"middle\" x=\"648\" y=\"-104.3\" font-family=\"Times,serif\" font-size=\"14.00\" fill=\"#000000\">value = 50.0</text>\n</g>\n<!-- 12&#45;&gt;16 -->\n<g id=\"edge16\" class=\"edge\">\n<title>12&#45;&gt;16</title>\n<path fill=\"none\" stroke=\"#000000\" d=\"M641.2744,-192.9465C642.3017,-182.2621 643.4399,-170.4254 644.4832,-159.5742\"/>\n<polygon fill=\"#000000\" stroke=\"#000000\" points=\"647.9746,-159.8313 645.4479,-149.5422 641.0067,-159.1612 647.9746,-159.8313\"/>\n</g>\n<!-- 14 -->\n<g id=\"node15\" class=\"node\">\n<title>14</title>\n<polygon fill=\"#e6843e\" stroke=\"#000000\" points=\"577.5,-53 488.5,-53 488.5,0 577.5,0 577.5,-53\"/>\n<text text-anchor=\"middle\" x=\"533\" y=\"-37.8\" font-family=\"Times,serif\" font-size=\"14.00\" fill=\"#000000\">mse = 2.44</text>\n<text text-anchor=\"middle\" x=\"533\" y=\"-22.8\" font-family=\"Times,serif\" font-size=\"14.00\" fill=\"#000000\">samples = 5</text>\n<text text-anchor=\"middle\" x=\"533\" y=\"-7.8\" font-family=\"Times,serif\" font-size=\"14.00\" fill=\"#000000\">value = 48.9</text>\n</g>\n<!-- 13&#45;&gt;14 -->\n<g id=\"edge14\" class=\"edge\">\n<title>13&#45;&gt;14</title>\n<path fill=\"none\" stroke=\"#000000\" d=\"M533,-88.9777C533,-80.7364 533,-71.887 533,-63.5153\"/>\n<polygon fill=\"#000000\" stroke=\"#000000\" points=\"536.5001,-63.2484 533,-53.2485 529.5001,-63.2485 536.5001,-63.2484\"/>\n</g>\n<!-- 15 -->\n<g id=\"node16\" class=\"node\">\n<title>15</title>\n<polygon fill=\"#e89152\" stroke=\"#000000\" points=\"692.5,-53 595.5,-53 595.5,0 692.5,0 692.5,-53\"/>\n<text text-anchor=\"middle\" x=\"644\" y=\"-37.8\" font-family=\"Times,serif\" font-size=\"14.00\" fill=\"#000000\">mse = 13.104</text>\n<text text-anchor=\"middle\" x=\"644\" y=\"-22.8\" font-family=\"Times,serif\" font-size=\"14.00\" fill=\"#000000\">samples = 10</text>\n<text text-anchor=\"middle\" x=\"644\" y=\"-7.8\" font-family=\"Times,serif\" font-size=\"14.00\" fill=\"#000000\">value = 44.68</text>\n</g>\n<!-- 13&#45;&gt;15 -->\n<g id=\"edge15\" class=\"edge\">\n<title>13&#45;&gt;15</title>\n<path fill=\"none\" stroke=\"#000000\" d=\"M572.1344,-88.9777C582.9833,-79.546 594.7484,-69.3178 605.5574,-59.9208\"/>\n<polygon fill=\"#000000\" stroke=\"#000000\" points=\"607.9819,-62.4508 613.2323,-53.2485 603.3892,-57.1681 607.9819,-62.4508\"/>\n</g>\n<!-- 18 -->\n<g id=\"node19\" class=\"node\">\n<title>18</title>\n<polygon fill=\"#eca36f\" stroke=\"#000000\" points=\"799.5,-149.5 710.5,-149.5 710.5,-96.5 799.5,-96.5 799.5,-149.5\"/>\n<text text-anchor=\"middle\" x=\"755\" y=\"-134.3\" font-family=\"Times,serif\" font-size=\"14.00\" fill=\"#000000\">mse = 0.0</text>\n<text text-anchor=\"middle\" x=\"755\" y=\"-119.3\" font-family=\"Times,serif\" font-size=\"14.00\" fill=\"#000000\">samples = 1</text>\n<text text-anchor=\"middle\" x=\"755\" y=\"-104.3\" font-family=\"Times,serif\" font-size=\"14.00\" fill=\"#000000\">value = 38.7</text>\n</g>\n<!-- 17&#45;&gt;18 -->\n<g id=\"edge18\" class=\"edge\">\n<title>17&#45;&gt;18</title>\n<path fill=\"none\" stroke=\"#000000\" d=\"M761.7256,-192.9465C760.6983,-182.2621 759.5601,-170.4254 758.5168,-159.5742\"/>\n<polygon fill=\"#000000\" stroke=\"#000000\" points=\"761.9933,-159.1612 757.5521,-149.5422 755.0254,-159.8313 761.9933,-159.1612\"/>\n</g>\n<!-- 19 -->\n<g id=\"node20\" class=\"node\">\n<title>19</title>\n<polygon fill=\"#eeae80\" stroke=\"#000000\" points=\"906.5,-149.5 817.5,-149.5 817.5,-96.5 906.5,-96.5 906.5,-149.5\"/>\n<text text-anchor=\"middle\" x=\"862\" y=\"-134.3\" font-family=\"Times,serif\" font-size=\"14.00\" fill=\"#000000\">mse = 0.0</text>\n<text text-anchor=\"middle\" x=\"862\" y=\"-119.3\" font-family=\"Times,serif\" font-size=\"14.00\" fill=\"#000000\">samples = 1</text>\n<text text-anchor=\"middle\" x=\"862\" y=\"-104.3\" font-family=\"Times,serif\" font-size=\"14.00\" fill=\"#000000\">value = 35.2</text>\n</g>\n<!-- 17&#45;&gt;19 -->\n<g id=\"edge19\" class=\"edge\">\n<title>17&#45;&gt;19</title>\n<path fill=\"none\" stroke=\"#000000\" d=\"M796.7614,-192.9465C807.5486,-181.3809 819.595,-168.4652 830.3718,-156.9107\"/>\n<polygon fill=\"#000000\" stroke=\"#000000\" points=\"832.9831,-159.2423 837.2443,-149.5422 827.8641,-154.4678 832.9831,-159.2423\"/>\n</g>\n<!-- 21 -->\n<g id=\"node22\" class=\"node\">\n<title>21</title>\n<polygon fill=\"#f8dbc7\" stroke=\"#000000\" points=\"1281,-365 1177,-365 1177,-297 1281,-297 1281,-365\"/>\n<text text-anchor=\"middle\" x=\"1229\" y=\"-349.8\" font-family=\"Times,serif\" font-size=\"14.00\" fill=\"#000000\">RM &lt;= 6.776</text>\n<text text-anchor=\"middle\" x=\"1229\" y=\"-334.8\" font-family=\"Times,serif\" font-size=\"14.00\" fill=\"#000000\">mse = 10.223</text>\n<text text-anchor=\"middle\" x=\"1229\" y=\"-319.8\" font-family=\"Times,serif\" font-size=\"14.00\" fill=\"#000000\">samples = 115</text>\n<text text-anchor=\"middle\" x=\"1229\" y=\"-304.8\" font-family=\"Times,serif\" font-size=\"14.00\" fill=\"#000000\">value = 20.377</text>\n</g>\n<!-- 20&#45;&gt;21 -->\n<g id=\"edge21\" class=\"edge\">\n<title>20&#45;&gt;21</title>\n<path fill=\"none\" stroke=\"#000000\" d=\"M1229,-400.9465C1229,-392.776 1229,-383.9318 1229,-375.3697\"/>\n<polygon fill=\"#000000\" stroke=\"#000000\" points=\"1232.5001,-375.13 1229,-365.13 1225.5001,-375.13 1232.5001,-375.13\"/>\n</g>\n<!-- 34 -->\n<g id=\"node35\" class=\"node\">\n<title>34</title>\n<polygon fill=\"#fbeee4\" stroke=\"#000000\" points=\"1760,-365 1654,-365 1654,-297 1760,-297 1760,-365\"/>\n<text text-anchor=\"middle\" x=\"1707\" y=\"-349.8\" font-family=\"Times,serif\" font-size=\"14.00\" fill=\"#000000\">NOX &lt;= 0.603</text>\n<text text-anchor=\"middle\" x=\"1707\" y=\"-334.8\" font-family=\"Times,serif\" font-size=\"14.00\" fill=\"#000000\">mse = 17.637</text>\n<text text-anchor=\"middle\" x=\"1707\" y=\"-319.8\" font-family=\"Times,serif\" font-size=\"14.00\" fill=\"#000000\">samples = 122</text>\n<text text-anchor=\"middle\" x=\"1707\" y=\"-304.8\" font-family=\"Times,serif\" font-size=\"14.00\" fill=\"#000000\">value = 14.347</text>\n</g>\n<!-- 20&#45;&gt;34 -->\n<g id=\"edge34\" class=\"edge\">\n<title>20&#45;&gt;34</title>\n<path fill=\"none\" stroke=\"#000000\" d=\"M1291.9817,-421.2969C1383.4911,-401.3869 1552.2532,-364.6688 1643.8547,-344.7387\"/>\n<polygon fill=\"#000000\" stroke=\"#000000\" points=\"1644.7957,-348.116 1653.8229,-342.5699 1643.3074,-341.276 1644.7957,-348.116\"/>\n</g>\n<!-- 22 -->\n<g id=\"node23\" class=\"node\">\n<title>22</title>\n<polygon fill=\"#f8dcc8\" stroke=\"#000000\" points=\"1220,-261 1116,-261 1116,-193 1220,-193 1220,-261\"/>\n<text text-anchor=\"middle\" x=\"1168\" y=\"-245.8\" font-family=\"Times,serif\" font-size=\"14.00\" fill=\"#000000\">B &lt;= 114.685</text>\n<text text-anchor=\"middle\" x=\"1168\" y=\"-230.8\" font-family=\"Times,serif\" font-size=\"14.00\" fill=\"#000000\">mse = 7.107</text>\n<text text-anchor=\"middle\" x=\"1168\" y=\"-215.8\" font-family=\"Times,serif\" font-size=\"14.00\" fill=\"#000000\">samples = 109</text>\n<text text-anchor=\"middle\" x=\"1168\" y=\"-200.8\" font-family=\"Times,serif\" font-size=\"14.00\" fill=\"#000000\">value = 20.067</text>\n</g>\n<!-- 21&#45;&gt;22 -->\n<g id=\"edge22\" class=\"edge\">\n<title>21&#45;&gt;22</title>\n<path fill=\"none\" stroke=\"#000000\" d=\"M1209.0263,-296.9465C1203.9707,-288.3271 1198.4753,-278.9579 1193.1983,-269.9611\"/>\n<polygon fill=\"#000000\" stroke=\"#000000\" points=\"1196.0969,-267.985 1188.0186,-261.13 1190.0589,-271.5265 1196.0969,-267.985\"/>\n</g>\n<!-- 29 -->\n<g id=\"node30\" class=\"node\">\n<title>29</title>\n<polygon fill=\"#f4caac\" stroke=\"#000000\" points=\"1366,-261 1260,-261 1260,-193 1366,-193 1366,-261\"/>\n<text text-anchor=\"middle\" x=\"1313\" y=\"-245.8\" font-family=\"Times,serif\" font-size=\"14.00\" fill=\"#000000\">NOX &lt;= 0.659</text>\n<text text-anchor=\"middle\" x=\"1313\" y=\"-230.8\" font-family=\"Times,serif\" font-size=\"14.00\" fill=\"#000000\">mse = 33.463</text>\n<text text-anchor=\"middle\" x=\"1313\" y=\"-215.8\" font-family=\"Times,serif\" font-size=\"14.00\" fill=\"#000000\">samples = 6</text>\n<text text-anchor=\"middle\" x=\"1313\" y=\"-200.8\" font-family=\"Times,serif\" font-size=\"14.00\" fill=\"#000000\">value = 26.0</text>\n</g>\n<!-- 21&#45;&gt;29 -->\n<g id=\"edge29\" class=\"edge\">\n<title>21&#45;&gt;29</title>\n<path fill=\"none\" stroke=\"#000000\" d=\"M1256.5047,-296.9465C1263.6841,-288.0578 1271.5076,-278.3716 1278.981,-269.1188\"/>\n<polygon fill=\"#000000\" stroke=\"#000000\" points=\"1281.8729,-271.1086 1285.4335,-261.13 1276.4273,-266.7102 1281.8729,-271.1086\"/>\n</g>\n<!-- 23 -->\n<g id=\"node24\" class=\"node\">\n<title>23</title>\n<polygon fill=\"#fbebe0\" stroke=\"#000000\" points=\"1049.5,-157 924.5,-157 924.5,-89 1049.5,-89 1049.5,-157\"/>\n<text text-anchor=\"middle\" x=\"987\" y=\"-141.8\" font-family=\"Times,serif\" font-size=\"14.00\" fill=\"#000000\">LSTAT &lt;= 15.355</text>\n<text text-anchor=\"middle\" x=\"987\" y=\"-126.8\" font-family=\"Times,serif\" font-size=\"14.00\" fill=\"#000000\">mse = 7.504</text>\n<text text-anchor=\"middle\" x=\"987\" y=\"-111.8\" font-family=\"Times,serif\" font-size=\"14.00\" fill=\"#000000\">samples = 5</text>\n<text text-anchor=\"middle\" x=\"987\" y=\"-96.8\" font-family=\"Times,serif\" font-size=\"14.00\" fill=\"#000000\">value = 15.1</text>\n</g>\n<!-- 22&#45;&gt;23 -->\n<g id=\"edge23\" class=\"edge\">\n<title>22&#45;&gt;23</title>\n<path fill=\"none\" stroke=\"#000000\" d=\"M1115.6473,-196.9189C1096.7301,-186.0494 1075.091,-173.6158 1055.0255,-162.0865\"/>\n<polygon fill=\"#000000\" stroke=\"#000000\" points=\"1056.6492,-158.9828 1046.2348,-157.0355 1053.1618,-165.0523 1056.6492,-158.9828\"/>\n</g>\n<!-- 26 -->\n<g id=\"node27\" class=\"node\">\n<title>26</title>\n<polygon fill=\"#f8dcc7\" stroke=\"#000000\" points=\"1223,-157 1113,-157 1113,-89 1223,-89 1223,-157\"/>\n<text text-anchor=\"middle\" x=\"1168\" y=\"-141.8\" font-family=\"Times,serif\" font-size=\"14.00\" fill=\"#000000\">LSTAT &lt;= 14.4</text>\n<text text-anchor=\"middle\" x=\"1168\" y=\"-126.8\" font-family=\"Times,serif\" font-size=\"14.00\" fill=\"#000000\">mse = 5.845</text>\n<text text-anchor=\"middle\" x=\"1168\" y=\"-111.8\" font-family=\"Times,serif\" font-size=\"14.00\" fill=\"#000000\">samples = 104</text>\n<text text-anchor=\"middle\" x=\"1168\" y=\"-96.8\" font-family=\"Times,serif\" font-size=\"14.00\" fill=\"#000000\">value = 20.306</text>\n</g>\n<!-- 22&#45;&gt;26 -->\n<g id=\"edge26\" class=\"edge\">\n<title>22&#45;&gt;26</title>\n<path fill=\"none\" stroke=\"#000000\" d=\"M1168,-192.9465C1168,-184.776 1168,-175.9318 1168,-167.3697\"/>\n<polygon fill=\"#000000\" stroke=\"#000000\" points=\"1171.5001,-167.13 1168,-157.13 1164.5001,-167.13 1171.5001,-167.13\"/>\n</g>\n<!-- 24 -->\n<g id=\"node25\" class=\"node\">\n<title>24</title>\n<polygon fill=\"#fae8da\" stroke=\"#000000\" points=\"901,-53 797,-53 797,0 901,0 901,-53\"/>\n<text text-anchor=\"middle\" x=\"849\" y=\"-37.8\" font-family=\"Times,serif\" font-size=\"14.00\" fill=\"#000000\">mse = 1.877</text>\n<text text-anchor=\"middle\" x=\"849\" y=\"-22.8\" font-family=\"Times,serif\" font-size=\"14.00\" fill=\"#000000\">samples = 4</text>\n<text text-anchor=\"middle\" x=\"849\" y=\"-7.8\" font-family=\"Times,serif\" font-size=\"14.00\" fill=\"#000000\">value = 16.325</text>\n</g>\n<!-- 23&#45;&gt;24 -->\n<g id=\"edge24\" class=\"edge\">\n<title>23&#45;&gt;24</title>\n<path fill=\"none\" stroke=\"#000000\" d=\"M938.3464,-88.9777C924.4657,-79.2713 909.3786,-68.7213 895.6223,-59.1018\"/>\n<polygon fill=\"#000000\" stroke=\"#000000\" points=\"897.4526,-56.1109 887.2517,-53.2485 893.4411,-61.8475 897.4526,-56.1109\"/>\n</g>\n<!-- 25 -->\n<g id=\"node26\" class=\"node\">\n<title>25</title>\n<polygon fill=\"#fefaf8\" stroke=\"#000000\" points=\"1008.5,-53 919.5,-53 919.5,0 1008.5,0 1008.5,-53\"/>\n<text text-anchor=\"middle\" x=\"964\" y=\"-37.8\" font-family=\"Times,serif\" font-size=\"14.00\" fill=\"#000000\">mse = &#45;0.0</text>\n<text text-anchor=\"middle\" x=\"964\" y=\"-22.8\" font-family=\"Times,serif\" font-size=\"14.00\" fill=\"#000000\">samples = 1</text>\n<text text-anchor=\"middle\" x=\"964\" y=\"-7.8\" font-family=\"Times,serif\" font-size=\"14.00\" fill=\"#000000\">value = 10.2</text>\n</g>\n<!-- 23&#45;&gt;25 -->\n<g id=\"edge25\" class=\"edge\">\n<title>23&#45;&gt;25</title>\n<path fill=\"none\" stroke=\"#000000\" d=\"M978.8911,-88.9777C976.905,-80.6449 974.7707,-71.6903 972.7558,-63.2364\"/>\n<polygon fill=\"#000000\" stroke=\"#000000\" points=\"976.0985,-62.1645 970.3753,-53.2485 969.2892,-63.7875 976.0985,-62.1645\"/>\n</g>\n<!-- 27 -->\n<g id=\"node28\" class=\"node\">\n<title>27</title>\n<polygon fill=\"#f7dac5\" stroke=\"#000000\" points=\"1123.5,-53 1026.5,-53 1026.5,0 1123.5,0 1123.5,-53\"/>\n<text text-anchor=\"middle\" x=\"1075\" y=\"-37.8\" font-family=\"Times,serif\" font-size=\"14.00\" fill=\"#000000\">mse = 5.083</text>\n<text text-anchor=\"middle\" x=\"1075\" y=\"-22.8\" font-family=\"Times,serif\" font-size=\"14.00\" fill=\"#000000\">samples = 81</text>\n<text text-anchor=\"middle\" x=\"1075\" y=\"-7.8\" font-family=\"Times,serif\" font-size=\"14.00\" fill=\"#000000\">value = 20.72</text>\n</g>\n<!-- 26&#45;&gt;27 -->\n<g id=\"edge27\" class=\"edge\">\n<title>26&#45;&gt;27</title>\n<path fill=\"none\" stroke=\"#000000\" d=\"M1135.2117,-88.9777C1126.2986,-79.7292 1116.6473,-69.7147 1107.7371,-60.4691\"/>\n<polygon fill=\"#000000\" stroke=\"#000000\" points=\"1110.2378,-58.0202 1100.7783,-53.2485 1105.1975,-62.8777 1110.2378,-58.0202\"/>\n</g>\n<!-- 28 -->\n<g id=\"node29\" class=\"node\">\n<title>28</title>\n<polygon fill=\"#f9e0ce\" stroke=\"#000000\" points=\"1246,-53 1142,-53 1142,0 1246,0 1246,-53\"/>\n<text text-anchor=\"middle\" x=\"1194\" y=\"-37.8\" font-family=\"Times,serif\" font-size=\"14.00\" fill=\"#000000\">mse = 5.799</text>\n<text text-anchor=\"middle\" x=\"1194\" y=\"-22.8\" font-family=\"Times,serif\" font-size=\"14.00\" fill=\"#000000\">samples = 23</text>\n<text text-anchor=\"middle\" x=\"1194\" y=\"-7.8\" font-family=\"Times,serif\" font-size=\"14.00\" fill=\"#000000\">value = 18.848</text>\n</g>\n<!-- 26&#45;&gt;28 -->\n<g id=\"edge28\" class=\"edge\">\n<title>26&#45;&gt;28</title>\n<path fill=\"none\" stroke=\"#000000\" d=\"M1177.1666,-88.9777C1179.4364,-80.5533 1181.8774,-71.4934 1184.1771,-62.9579\"/>\n<polygon fill=\"#000000\" stroke=\"#000000\" points=\"1187.571,-63.8147 1186.7932,-53.2485 1180.8121,-61.9936 1187.571,-63.8147\"/>\n</g>\n<!-- 30 -->\n<g id=\"node31\" class=\"node\">\n<title>30</title>\n<polygon fill=\"#f3c3a1\" stroke=\"#000000\" points=\"1362,-157 1264,-157 1264,-89 1362,-89 1362,-157\"/>\n<text text-anchor=\"middle\" x=\"1313\" y=\"-141.8\" font-family=\"Times,serif\" font-size=\"14.00\" fill=\"#000000\">DIS &lt;= 4.804</text>\n<text text-anchor=\"middle\" x=\"1313\" y=\"-126.8\" font-family=\"Times,serif\" font-size=\"14.00\" fill=\"#000000\">mse = 11.116</text>\n<text text-anchor=\"middle\" x=\"1313\" y=\"-111.8\" font-family=\"Times,serif\" font-size=\"14.00\" fill=\"#000000\">samples = 5</text>\n<text text-anchor=\"middle\" x=\"1313\" y=\"-96.8\" font-family=\"Times,serif\" font-size=\"14.00\" fill=\"#000000\">value = 28.2</text>\n</g>\n<!-- 29&#45;&gt;30 -->\n<g id=\"edge30\" class=\"edge\">\n<title>29&#45;&gt;30</title>\n<path fill=\"none\" stroke=\"#000000\" d=\"M1313,-192.9465C1313,-184.776 1313,-175.9318 1313,-167.3697\"/>\n<polygon fill=\"#000000\" stroke=\"#000000\" points=\"1316.5001,-167.13 1313,-157.13 1309.5001,-167.13 1316.5001,-167.13\"/>\n</g>\n<!-- 33 -->\n<g id=\"node34\" class=\"node\">\n<title>33</title>\n<polygon fill=\"#fbece1\" stroke=\"#000000\" points=\"1469.5,-149.5 1380.5,-149.5 1380.5,-96.5 1469.5,-96.5 1469.5,-149.5\"/>\n<text text-anchor=\"middle\" x=\"1425\" y=\"-134.3\" font-family=\"Times,serif\" font-size=\"14.00\" fill=\"#000000\">mse = 0.0</text>\n<text text-anchor=\"middle\" x=\"1425\" y=\"-119.3\" font-family=\"Times,serif\" font-size=\"14.00\" fill=\"#000000\">samples = 1</text>\n<text text-anchor=\"middle\" x=\"1425\" y=\"-104.3\" font-family=\"Times,serif\" font-size=\"14.00\" fill=\"#000000\">value = 15.0</text>\n</g>\n<!-- 29&#45;&gt;33 -->\n<g id=\"edge33\" class=\"edge\">\n<title>29&#45;&gt;33</title>\n<path fill=\"none\" stroke=\"#000000\" d=\"M1349.673,-192.9465C1362.2469,-181.2707 1376.3026,-168.219 1388.8359,-156.5809\"/>\n<polygon fill=\"#000000\" stroke=\"#000000\" points=\"1391.4698,-158.9115 1396.4161,-149.5422 1386.7066,-153.7819 1391.4698,-158.9115\"/>\n</g>\n<!-- 31 -->\n<g id=\"node32\" class=\"node\">\n<title>31</title>\n<polygon fill=\"#f2bf9a\" stroke=\"#000000\" points=\"1361.5,-53 1264.5,-53 1264.5,0 1361.5,0 1361.5,-53\"/>\n<text text-anchor=\"middle\" x=\"1313\" y=\"-37.8\" font-family=\"Times,serif\" font-size=\"14.00\" fill=\"#000000\">mse = 1.882</text>\n<text text-anchor=\"middle\" x=\"1313\" y=\"-22.8\" font-family=\"Times,serif\" font-size=\"14.00\" fill=\"#000000\">samples = 4</text>\n<text text-anchor=\"middle\" x=\"1313\" y=\"-7.8\" font-family=\"Times,serif\" font-size=\"14.00\" fill=\"#000000\">value = 29.75</text>\n</g>\n<!-- 30&#45;&gt;31 -->\n<g id=\"edge31\" class=\"edge\">\n<title>30&#45;&gt;31</title>\n<path fill=\"none\" stroke=\"#000000\" d=\"M1313,-88.9777C1313,-80.7364 1313,-71.887 1313,-63.5153\"/>\n<polygon fill=\"#000000\" stroke=\"#000000\" points=\"1316.5001,-63.2484 1313,-53.2485 1309.5001,-63.2485 1316.5001,-63.2484\"/>\n</g>\n<!-- 32 -->\n<g id=\"node33\" class=\"node\">\n<title>32</title>\n<polygon fill=\"#f7d6bf\" stroke=\"#000000\" points=\"1468.5,-53 1379.5,-53 1379.5,0 1468.5,0 1468.5,-53\"/>\n<text text-anchor=\"middle\" x=\"1424\" y=\"-37.8\" font-family=\"Times,serif\" font-size=\"14.00\" fill=\"#000000\">mse = 0.0</text>\n<text text-anchor=\"middle\" x=\"1424\" y=\"-22.8\" font-family=\"Times,serif\" font-size=\"14.00\" fill=\"#000000\">samples = 1</text>\n<text text-anchor=\"middle\" x=\"1424\" y=\"-7.8\" font-family=\"Times,serif\" font-size=\"14.00\" fill=\"#000000\">value = 22.0</text>\n</g>\n<!-- 30&#45;&gt;32 -->\n<g id=\"edge32\" class=\"edge\">\n<title>30&#45;&gt;32</title>\n<path fill=\"none\" stroke=\"#000000\" d=\"M1352.1344,-88.9777C1362.9833,-79.546 1374.7484,-69.3178 1385.5574,-59.9208\"/>\n<polygon fill=\"#000000\" stroke=\"#000000\" points=\"1387.9819,-62.4508 1393.2323,-53.2485 1383.3892,-57.1681 1387.9819,-62.4508\"/>\n</g>\n<!-- 35 -->\n<g id=\"node36\" class=\"node\">\n<title>35</title>\n<polygon fill=\"#f9e4d4\" stroke=\"#000000\" points=\"1774,-261 1640,-261 1640,-193 1774,-193 1774,-261\"/>\n<text text-anchor=\"middle\" x=\"1707\" y=\"-245.8\" font-family=\"Times,serif\" font-size=\"14.00\" fill=\"#000000\">PTRATIO &lt;= 20.95</text>\n<text text-anchor=\"middle\" x=\"1707\" y=\"-230.8\" font-family=\"Times,serif\" font-size=\"14.00\" fill=\"#000000\">mse = 13.33</text>\n<text text-anchor=\"middle\" x=\"1707\" y=\"-215.8\" font-family=\"Times,serif\" font-size=\"14.00\" fill=\"#000000\">samples = 40</text>\n<text text-anchor=\"middle\" x=\"1707\" y=\"-200.8\" font-family=\"Times,serif\" font-size=\"14.00\" fill=\"#000000\">value = 17.618</text>\n</g>\n<!-- 34&#45;&gt;35 -->\n<g id=\"edge35\" class=\"edge\">\n<title>34&#45;&gt;35</title>\n<path fill=\"none\" stroke=\"#000000\" d=\"M1707,-296.9465C1707,-288.776 1707,-279.9318 1707,-271.3697\"/>\n<polygon fill=\"#000000\" stroke=\"#000000\" points=\"1710.5001,-271.13 1707,-261.13 1703.5001,-271.13 1710.5001,-271.13\"/>\n</g>\n<!-- 42 -->\n<g id=\"node43\" class=\"node\">\n<title>42</title>\n<polygon fill=\"#fcf3eb\" stroke=\"#000000\" points=\"2093.5,-261 1974.5,-261 1974.5,-193 2093.5,-193 2093.5,-261\"/>\n<text text-anchor=\"middle\" x=\"2034\" y=\"-245.8\" font-family=\"Times,serif\" font-size=\"14.00\" fill=\"#000000\">CRIM &lt;= 10.452</text>\n<text text-anchor=\"middle\" x=\"2034\" y=\"-230.8\" font-family=\"Times,serif\" font-size=\"14.00\" fill=\"#000000\">mse = 11.973</text>\n<text text-anchor=\"middle\" x=\"2034\" y=\"-215.8\" font-family=\"Times,serif\" font-size=\"14.00\" fill=\"#000000\">samples = 82</text>\n<text text-anchor=\"middle\" x=\"2034\" y=\"-200.8\" font-family=\"Times,serif\" font-size=\"14.00\" fill=\"#000000\">value = 12.751</text>\n</g>\n<!-- 34&#45;&gt;42 -->\n<g id=\"edge42\" class=\"edge\">\n<title>34&#45;&gt;42</title>\n<path fill=\"none\" stroke=\"#000000\" d=\"M1760.266,-314.0591C1816.0102,-296.3301 1903.7545,-268.4236 1964.8207,-249.002\"/>\n<polygon fill=\"#000000\" stroke=\"#000000\" points=\"1965.9145,-252.3269 1974.3834,-245.9606 1963.7929,-245.6562 1965.9145,-252.3269\"/>\n</g>\n<!-- 36 -->\n<g id=\"node37\" class=\"node\">\n<title>36</title>\n<polygon fill=\"#f9e1cf\" stroke=\"#000000\" points=\"1701,-157 1597,-157 1597,-89 1701,-89 1701,-157\"/>\n<text text-anchor=\"middle\" x=\"1649\" y=\"-141.8\" font-family=\"Times,serif\" font-size=\"14.00\" fill=\"#000000\">RM &lt;= 6.843</text>\n<text text-anchor=\"middle\" x=\"1649\" y=\"-126.8\" font-family=\"Times,serif\" font-size=\"14.00\" fill=\"#000000\">mse = 12.317</text>\n<text text-anchor=\"middle\" x=\"1649\" y=\"-111.8\" font-family=\"Times,serif\" font-size=\"14.00\" fill=\"#000000\">samples = 31</text>\n<text text-anchor=\"middle\" x=\"1649\" y=\"-96.8\" font-family=\"Times,serif\" font-size=\"14.00\" fill=\"#000000\">value = 18.639</text>\n</g>\n<!-- 35&#45;&gt;36 -->\n<g id=\"edge36\" class=\"edge\">\n<title>35&#45;&gt;36</title>\n<path fill=\"none\" stroke=\"#000000\" d=\"M1688.0086,-192.9465C1683.2017,-184.3271 1677.9765,-174.9579 1672.9591,-165.9611\"/>\n<polygon fill=\"#000000\" stroke=\"#000000\" points=\"1675.9615,-164.1589 1668.034,-157.13 1669.848,-167.5684 1675.9615,-164.1589\"/>\n</g>\n<!-- 39 -->\n<g id=\"node40\" class=\"node\">\n<title>39</title>\n<polygon fill=\"#fceee5\" stroke=\"#000000\" points=\"1811,-157 1719,-157 1719,-89 1811,-89 1811,-157\"/>\n<text text-anchor=\"middle\" x=\"1765\" y=\"-141.8\" font-family=\"Times,serif\" font-size=\"14.00\" fill=\"#000000\">B &lt;= 385.45</text>\n<text text-anchor=\"middle\" x=\"1765\" y=\"-126.8\" font-family=\"Times,serif\" font-size=\"14.00\" fill=\"#000000\">mse = 0.858</text>\n<text text-anchor=\"middle\" x=\"1765\" y=\"-111.8\" font-family=\"Times,serif\" font-size=\"14.00\" fill=\"#000000\">samples = 9</text>\n<text text-anchor=\"middle\" x=\"1765\" y=\"-96.8\" font-family=\"Times,serif\" font-size=\"14.00\" fill=\"#000000\">value = 14.1</text>\n</g>\n<!-- 35&#45;&gt;39 -->\n<g id=\"edge39\" class=\"edge\">\n<title>35&#45;&gt;39</title>\n<path fill=\"none\" stroke=\"#000000\" d=\"M1725.9914,-192.9465C1730.7983,-184.3271 1736.0235,-174.9579 1741.0409,-165.9611\"/>\n<polygon fill=\"#000000\" stroke=\"#000000\" points=\"1744.152,-167.5684 1745.966,-157.13 1738.0385,-164.1589 1744.152,-167.5684\"/>\n</g>\n<!-- 37 -->\n<g id=\"node38\" class=\"node\">\n<title>37</title>\n<polygon fill=\"#f9e1d1\" stroke=\"#000000\" points=\"1591,-53 1487,-53 1487,0 1591,0 1591,-53\"/>\n<text text-anchor=\"middle\" x=\"1539\" y=\"-37.8\" font-family=\"Times,serif\" font-size=\"14.00\" fill=\"#000000\">mse = 10.022</text>\n<text text-anchor=\"middle\" x=\"1539\" y=\"-22.8\" font-family=\"Times,serif\" font-size=\"14.00\" fill=\"#000000\">samples = 30</text>\n<text text-anchor=\"middle\" x=\"1539\" y=\"-7.8\" font-family=\"Times,serif\" font-size=\"14.00\" fill=\"#000000\">value = 18.343</text>\n</g>\n<!-- 36&#45;&gt;37 -->\n<g id=\"edge37\" class=\"edge\">\n<title>36&#45;&gt;37</title>\n<path fill=\"none\" stroke=\"#000000\" d=\"M1610.2181,-88.9777C1599.467,-79.546 1587.8078,-69.3178 1577.0962,-59.9208\"/>\n<polygon fill=\"#000000\" stroke=\"#000000\" points=\"1579.316,-57.2122 1569.4905,-53.2485 1574.6996,-62.4743 1579.316,-57.2122\"/>\n</g>\n<!-- 38 -->\n<g id=\"node39\" class=\"node\">\n<title>38</title>\n<polygon fill=\"#f3c6a5\" stroke=\"#000000\" points=\"1698.5,-53 1609.5,-53 1609.5,0 1698.5,0 1698.5,-53\"/>\n<text text-anchor=\"middle\" x=\"1654\" y=\"-37.8\" font-family=\"Times,serif\" font-size=\"14.00\" fill=\"#000000\">mse = &#45;0.0</text>\n<text text-anchor=\"middle\" x=\"1654\" y=\"-22.8\" font-family=\"Times,serif\" font-size=\"14.00\" fill=\"#000000\">samples = 1</text>\n<text text-anchor=\"middle\" x=\"1654\" y=\"-7.8\" font-family=\"Times,serif\" font-size=\"14.00\" fill=\"#000000\">value = 27.5</text>\n</g>\n<!-- 36&#45;&gt;38 -->\n<g id=\"edge38\" class=\"edge\">\n<title>36&#45;&gt;38</title>\n<path fill=\"none\" stroke=\"#000000\" d=\"M1650.7628,-88.9777C1651.1946,-80.6449 1651.6585,-71.6903 1652.0966,-63.2364\"/>\n<polygon fill=\"#000000\" stroke=\"#000000\" points=\"1655.5918,-63.4162 1652.6141,-53.2485 1648.6012,-63.0539 1655.5918,-63.4162\"/>\n</g>\n<!-- 40 -->\n<g id=\"node41\" class=\"node\">\n<title>40</title>\n<polygon fill=\"#fcf0e7\" stroke=\"#000000\" points=\"1805.5,-53 1716.5,-53 1716.5,0 1805.5,0 1805.5,-53\"/>\n<text text-anchor=\"middle\" x=\"1761\" y=\"-37.8\" font-family=\"Times,serif\" font-size=\"14.00\" fill=\"#000000\">mse = 0.433</text>\n<text text-anchor=\"middle\" x=\"1761\" y=\"-22.8\" font-family=\"Times,serif\" font-size=\"14.00\" fill=\"#000000\">samples = 6</text>\n<text text-anchor=\"middle\" x=\"1761\" y=\"-7.8\" font-family=\"Times,serif\" font-size=\"14.00\" fill=\"#000000\">value = 13.6</text>\n</g>\n<!-- 39&#45;&gt;40 -->\n<g id=\"edge40\" class=\"edge\">\n<title>39&#45;&gt;40</title>\n<path fill=\"none\" stroke=\"#000000\" d=\"M1763.5897,-88.9777C1763.2481,-80.7364 1762.8813,-71.887 1762.5343,-63.5153\"/>\n<polygon fill=\"#000000\" stroke=\"#000000\" points=\"1766.02,-63.0949 1762.1087,-53.2485 1759.026,-63.3849 1766.02,-63.0949\"/>\n</g>\n<!-- 41 -->\n<g id=\"node42\" class=\"node\">\n<title>41</title>\n<polygon fill=\"#fbebe0\" stroke=\"#000000\" points=\"1912.5,-53 1823.5,-53 1823.5,0 1912.5,0 1912.5,-53\"/>\n<text text-anchor=\"middle\" x=\"1868\" y=\"-37.8\" font-family=\"Times,serif\" font-size=\"14.00\" fill=\"#000000\">mse = 0.207</text>\n<text text-anchor=\"middle\" x=\"1868\" y=\"-22.8\" font-family=\"Times,serif\" font-size=\"14.00\" fill=\"#000000\">samples = 3</text>\n<text text-anchor=\"middle\" x=\"1868\" y=\"-7.8\" font-family=\"Times,serif\" font-size=\"14.00\" fill=\"#000000\">value = 15.1</text>\n</g>\n<!-- 39&#45;&gt;41 -->\n<g id=\"edge41\" class=\"edge\">\n<title>39&#45;&gt;41</title>\n<path fill=\"none\" stroke=\"#000000\" d=\"M1801.3139,-88.9777C1811.2832,-79.6376 1822.0862,-69.5163 1832.0357,-60.1947\"/>\n<polygon fill=\"#000000\" stroke=\"#000000\" points=\"1834.5452,-62.6397 1839.4498,-53.2485 1829.7592,-57.5314 1834.5452,-62.6397\"/>\n</g>\n<!-- 43 -->\n<g id=\"node44\" class=\"node\">\n<title>43</title>\n<polygon fill=\"#fbeee4\" stroke=\"#000000\" points=\"2093,-157 1975,-157 1975,-89 2093,-89 2093,-157\"/>\n<text text-anchor=\"middle\" x=\"2034\" y=\"-141.8\" font-family=\"Times,serif\" font-size=\"14.00\" fill=\"#000000\">LSTAT &lt;= 18.93</text>\n<text text-anchor=\"middle\" x=\"2034\" y=\"-126.8\" font-family=\"Times,serif\" font-size=\"14.00\" fill=\"#000000\">mse = 7.709</text>\n<text text-anchor=\"middle\" x=\"2034\" y=\"-111.8\" font-family=\"Times,serif\" font-size=\"14.00\" fill=\"#000000\">samples = 53</text>\n<text text-anchor=\"middle\" x=\"2034\" y=\"-96.8\" font-family=\"Times,serif\" font-size=\"14.00\" fill=\"#000000\">value = 14.385</text>\n</g>\n<!-- 42&#45;&gt;43 -->\n<g id=\"edge43\" class=\"edge\">\n<title>42&#45;&gt;43</title>\n<path fill=\"none\" stroke=\"#000000\" d=\"M2034,-192.9465C2034,-184.776 2034,-175.9318 2034,-167.3697\"/>\n<polygon fill=\"#000000\" stroke=\"#000000\" points=\"2037.5001,-167.13 2034,-157.13 2030.5001,-167.13 2037.5001,-167.13\"/>\n</g>\n<!-- 46 -->\n<g id=\"node47\" class=\"node\">\n<title>46</title>\n<polygon fill=\"#fefcfa\" stroke=\"#000000\" points=\"2273,-157 2167,-157 2167,-89 2273,-89 2273,-157\"/>\n<text text-anchor=\"middle\" x=\"2220\" y=\"-141.8\" font-family=\"Times,serif\" font-size=\"14.00\" fill=\"#000000\">NOX &lt;= 0.675</text>\n<text text-anchor=\"middle\" x=\"2220\" y=\"-126.8\" font-family=\"Times,serif\" font-size=\"14.00\" fill=\"#000000\">mse = 5.974</text>\n<text text-anchor=\"middle\" x=\"2220\" y=\"-111.8\" font-family=\"Times,serif\" font-size=\"14.00\" fill=\"#000000\">samples = 29</text>\n<text text-anchor=\"middle\" x=\"2220\" y=\"-96.8\" font-family=\"Times,serif\" font-size=\"14.00\" fill=\"#000000\">value = 9.766</text>\n</g>\n<!-- 42&#45;&gt;46 -->\n<g id=\"edge46\" class=\"edge\">\n<title>42&#45;&gt;46</title>\n<path fill=\"none\" stroke=\"#000000\" d=\"M2093.619,-193.6646C2114.2597,-182.1236 2137.4298,-169.1683 2158.2389,-157.5331\"/>\n<polygon fill=\"#000000\" stroke=\"#000000\" points=\"2159.9782,-160.5706 2166.9983,-152.6353 2156.5619,-154.4608 2159.9782,-160.5706\"/>\n</g>\n<!-- 44 -->\n<g id=\"node45\" class=\"node\">\n<title>44</title>\n<polygon fill=\"#fbeade\" stroke=\"#000000\" points=\"2027.5,-53 1930.5,-53 1930.5,0 2027.5,0 2027.5,-53\"/>\n<text text-anchor=\"middle\" x=\"1979\" y=\"-37.8\" font-family=\"Times,serif\" font-size=\"14.00\" fill=\"#000000\">mse = 4.707</text>\n<text text-anchor=\"middle\" x=\"1979\" y=\"-22.8\" font-family=\"Times,serif\" font-size=\"14.00\" fill=\"#000000\">samples = 30</text>\n<text text-anchor=\"middle\" x=\"1979\" y=\"-7.8\" font-family=\"Times,serif\" font-size=\"14.00\" fill=\"#000000\">value = 15.63</text>\n</g>\n<!-- 43&#45;&gt;44 -->\n<g id=\"edge44\" class=\"edge\">\n<title>43&#45;&gt;44</title>\n<path fill=\"none\" stroke=\"#000000\" d=\"M2014.6091,-88.9777C2009.651,-80.2786 2004.3067,-70.9018 1999.3042,-62.1247\"/>\n<polygon fill=\"#000000\" stroke=\"#000000\" points=\"2002.2378,-60.2033 1994.2452,-53.2485 1996.1562,-63.6696 2002.2378,-60.2033\"/>\n</g>\n<!-- 45 -->\n<g id=\"node46\" class=\"node\">\n<title>45</title>\n<polygon fill=\"#fcf3eb\" stroke=\"#000000\" points=\"2150,-53 2046,-53 2046,0 2150,0 2150,-53\"/>\n<text text-anchor=\"middle\" x=\"2098\" y=\"-37.8\" font-family=\"Times,serif\" font-size=\"14.00\" fill=\"#000000\">mse = 6.965</text>\n<text text-anchor=\"middle\" x=\"2098\" y=\"-22.8\" font-family=\"Times,serif\" font-size=\"14.00\" fill=\"#000000\">samples = 23</text>\n<text text-anchor=\"middle\" x=\"2098\" y=\"-7.8\" font-family=\"Times,serif\" font-size=\"14.00\" fill=\"#000000\">value = 12.761</text>\n</g>\n<!-- 43&#45;&gt;45 -->\n<g id=\"edge45\" class=\"edge\">\n<title>43&#45;&gt;45</title>\n<path fill=\"none\" stroke=\"#000000\" d=\"M2056.564,-88.9777C2062.3941,-80.187 2068.6831,-70.7044 2074.557,-61.8477\"/>\n<polygon fill=\"#000000\" stroke=\"#000000\" points=\"2077.6498,-63.5167 2080.2601,-53.2485 2071.8162,-59.6478 2077.6498,-63.5167\"/>\n</g>\n<!-- 47 -->\n<g id=\"node48\" class=\"node\">\n<title>47</title>\n<polygon fill=\"#fdf4ee\" stroke=\"#000000\" points=\"2272,-53 2168,-53 2168,0 2272,0 2272,-53\"/>\n<text text-anchor=\"middle\" x=\"2220\" y=\"-37.8\" font-family=\"Times,serif\" font-size=\"14.00\" fill=\"#000000\">mse = 1.986</text>\n<text text-anchor=\"middle\" x=\"2220\" y=\"-22.8\" font-family=\"Times,serif\" font-size=\"14.00\" fill=\"#000000\">samples = 9</text>\n<text text-anchor=\"middle\" x=\"2220\" y=\"-7.8\" font-family=\"Times,serif\" font-size=\"14.00\" fill=\"#000000\">value = 12.222</text>\n</g>\n<!-- 46&#45;&gt;47 -->\n<g id=\"edge47\" class=\"edge\">\n<title>46&#45;&gt;47</title>\n<path fill=\"none\" stroke=\"#000000\" d=\"M2220,-88.9777C2220,-80.7364 2220,-71.887 2220,-63.5153\"/>\n<polygon fill=\"#000000\" stroke=\"#000000\" points=\"2223.5001,-63.2484 2220,-53.2485 2216.5001,-63.2485 2223.5001,-63.2484\"/>\n</g>\n<!-- 48 -->\n<g id=\"node49\" class=\"node\">\n<title>48</title>\n<polygon fill=\"#ffffff\" stroke=\"#000000\" points=\"2382,-53 2290,-53 2290,0 2382,0 2382,-53\"/>\n<text text-anchor=\"middle\" x=\"2336\" y=\"-37.8\" font-family=\"Times,serif\" font-size=\"14.00\" fill=\"#000000\">mse = 3.83</text>\n<text text-anchor=\"middle\" x=\"2336\" y=\"-22.8\" font-family=\"Times,serif\" font-size=\"14.00\" fill=\"#000000\">samples = 20</text>\n<text text-anchor=\"middle\" x=\"2336\" y=\"-7.8\" font-family=\"Times,serif\" font-size=\"14.00\" fill=\"#000000\">value = 8.66</text>\n</g>\n<!-- 46&#45;&gt;48 -->\n<g id=\"edge48\" class=\"edge\">\n<title>46&#45;&gt;48</title>\n<path fill=\"none\" stroke=\"#000000\" d=\"M2260.8973,-88.9777C2272.3449,-79.4545 2284.7687,-69.1191 2296.1545,-59.6473\"/>\n<polygon fill=\"#000000\" stroke=\"#000000\" points=\"2298.3971,-62.3345 2303.8464,-53.2485 2293.9203,-56.9532 2298.3971,-62.3345\"/>\n</g>\n</g>\n</svg>\n"
          },
          "metadata": {
            "tags": []
          },
          "execution_count": 12
        }
      ]
    },
    {
      "cell_type": "code",
      "metadata": {
        "id": "yblQd-_Hucw5",
        "outputId": "2fb58ef4-e1d9-424b-904b-b6234b4747c4",
        "colab": {
          "base_uri": "https://localhost:8080/",
          "height": 370
        }
      },
      "source": [
        "pre = reg.predict(x_test)\n",
        "pre"
      ],
      "execution_count": 14,
      "outputs": [
        {
          "output_type": "execute_result",
          "data": {
            "text/plain": [
              "array([25.13157895, 15.63      , 20.71975309, 48.9       , 25.13157895,\n",
              "       33.13947368, 20.71975309, 20.71975309, 16.325     , 20.71975309,\n",
              "       18.34333333, 33.13947368, 25.13157895, 20.71975309, 13.6       ,\n",
              "       33.13947368, 25.13157895, 20.71975309, 20.71363636, 33.13947368,\n",
              "       25.13157895, 20.71975309, 20.71975309, 20.71363636, 25.13157895,\n",
              "       20.71975309, 18.84782609,  8.66      , 38.7       , 20.71975309,\n",
              "        8.66      , 48.9       , 18.34333333, 15.63      , 18.34333333,\n",
              "       12.76086957, 20.71975309, 18.84782609, 20.71975309, 38.7       ,\n",
              "       33.13947368, 20.71975309, 20.71975309, 20.71363636, 33.13947368,\n",
              "       20.71975309, 20.71975309, 25.13157895, 25.13157895, 25.13157895,\n",
              "       12.76086957, 18.84782609, 18.84782609, 12.76086957, 33.13947368,\n",
              "       48.9       ,  8.66      , 48.9       , 33.13947368, 20.71363636,\n",
              "       20.71975309, 18.34333333, 20.71363636, 18.84782609, 20.71363636,\n",
              "       35.2       , 20.71363636, 16.325     , 18.34333333, 18.34333333,\n",
              "       18.84782609, 20.71975309, 25.13157895, 25.13157895, 20.71975309,\n",
              "        8.66      , 12.76086957, 20.71975309, 25.13157895, 18.34333333,\n",
              "       20.71975309, 33.13947368,  8.66      , 33.13947368, 25.13157895,\n",
              "       25.13157895, 20.71975309, 20.71975309, 25.13157895, 20.71363636,\n",
              "       20.71975309, 18.34333333, 25.13157895,  8.66      , 20.71975309,\n",
              "       20.71975309,  8.66      , 25.13157895, 25.13157895, 25.13157895,\n",
              "       20.71975309, 20.71363636])"
            ]
          },
          "metadata": {
            "tags": []
          },
          "execution_count": 14
        }
      ]
    }
  ]
}